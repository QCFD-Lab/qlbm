{
 "cells": [
  {
   "cell_type": "code",
   "execution_count": 1,
   "metadata": {},
   "outputs": [],
   "source": [
    "import logging.config\n",
    "from logging import Logger, getLogger\n",
    "from typing import List\n",
    "\n",
    "from pytket.extensions.qulacs import QulacsBackend as TketQulacsBackend\n",
    "\n",
    "from qlbm.components import (\n",
    "    CQLBM,\n",
    ")\n",
    "from qlbm.infra import CircuitCompiler\n",
    "from qlbm.lattice import CollisionlessLattice\n",
    "from qlbm.tools.utils import create_directory_and_parents\n"
   ]
  },
  {
   "cell_type": "code",
   "execution_count": null,
   "metadata": {},
   "outputs": [],
   "source": [
    "def benchmark(\n",
    "    lattice_files: List[str],\n",
    "    logger: Logger,\n",
    "    dummy_logger: Logger,\n",
    "    compiler_platform: List[str],\n",
    "    target_platform: List[str],\n",
    "    optimization_levels: List[int],\n",
    "    backend: TketQulacsBackend | None,\n",
    "    num_repetitions: int = 5,\n",
    ") -> None:\n",
    "    for rep in range(num_repetitions):\n",
    "        logger.info(f\"Repetition #{rep} of {num_repetitions}\")\n",
    "        for count, lattice_file in enumerate(lattice_files):\n",
    "            for opt_count, optimization_level in enumerate(optimization_levels):\n",
    "                logger.info(\n",
    "                    f\"Combination #{(count * len(lattice_files)) + opt_count + 1} of {len(lattice_files)*len(optimization_levels)}\"\n",
    "                )\n",
    "\n",
    "                lattice_name = (\n",
    "                    lattice_file.split(\"/\")[-1].split(\".\")[0].replace(\"_\", \"-\")\n",
    "                )\n",
    "                logger.info(f\"Lattice: {lattice_name}; opt={optimization_level}\")\n",
    "\n",
    "                lattice = CollisionlessLattice(lattice_file, logger=dummy_logger)\n",
    "                logger.info(\n",
    "                    f\"Lattice={lattice_file}, num_qubits={lattice.num_total_qubits}\"\n",
    "                )\n",
    "\n",
    "                lattice = CollisionlessLattice(lattice_file)\n",
    "\n",
    "                algorithm = CQLBM(lattice, logger=dummy_logger)\n",
    "                compiler = CircuitCompiler(\n",
    "                    compiler_platform, target_platform, logger=logger\n",
    "                )\n",
    "\n",
    "                compiler.compile(\n",
    "                    compile_object=algorithm,\n",
    "                    backend=backend,\n",
    "                    optimization_level=optimization_level,\n",
    "                )"
   ]
  },
  {
   "cell_type": "code",
   "execution_count": null,
   "metadata": {},
   "outputs": [],
   "source": [
    "NUM_SHOTS = 2**14\n",
    "NUM_STEPS = 5\n",
    "ROOT_OUTPUT_DIR = \"qlbm-output/benchmark-compilers\"\n",
    "\n",
    "create_directory_and_parents(ROOT_OUTPUT_DIR)"
   ]
  },
  {
   "cell_type": "code",
   "execution_count": 6,
   "metadata": {},
   "outputs": [
    {
     "ename": "FileNotFoundError",
     "evalue": "[Errno 2] No such file or directory: '/home/calin/phd/qlbm/demos/benchmarks/qlbm-output/benchmark-compilers/qlbm.log'",
     "output_type": "error",
     "traceback": [
      "\u001b[0;31m---------------------------------------------------------------------------\u001b[0m",
      "\u001b[0;31mFileNotFoundError\u001b[0m                         Traceback (most recent call last)",
      "Cell \u001b[0;32mIn[6], line 9\u001b[0m\n\u001b[1;32m      7\u001b[0m dummy_logger \u001b[38;5;241m=\u001b[39m getLogger(\u001b[38;5;124m\"\u001b[39m\u001b[38;5;124mdummy\u001b[39m\u001b[38;5;124m\"\u001b[39m)\n\u001b[1;32m      8\u001b[0m \u001b[38;5;66;03m# By logging at this point we ignore the output of circuit creation\u001b[39;00m\n\u001b[0;32m----> 9\u001b[0m \u001b[43mlogging\u001b[49m\u001b[38;5;241;43m.\u001b[39;49m\u001b[43mconfig\u001b[49m\u001b[38;5;241;43m.\u001b[39;49m\u001b[43mfileConfig\u001b[49m\u001b[43m(\u001b[49m\u001b[38;5;124;43m\"\u001b[39;49m\u001b[38;5;124;43mcompilers.conf\u001b[39;49m\u001b[38;5;124;43m\"\u001b[39;49m\u001b[43m)\u001b[49m\n\u001b[1;32m     10\u001b[0m logger \u001b[38;5;241m=\u001b[39m getLogger(\u001b[38;5;124m\"\u001b[39m\u001b[38;5;124mqlbm\u001b[39m\u001b[38;5;124m\"\u001b[39m)\n",
      "File \u001b[0;32m/usr/lib64/python3.12/logging/config.py:91\u001b[0m, in \u001b[0;36mfileConfig\u001b[0;34m(fname, defaults, disable_existing_loggers, encoding)\u001b[0m\n\u001b[1;32m     88\u001b[0m     _clearExistingHandlers()\n\u001b[1;32m     90\u001b[0m     \u001b[38;5;66;03m# Handlers add themselves to logging._handlers\u001b[39;00m\n\u001b[0;32m---> 91\u001b[0m     handlers \u001b[38;5;241m=\u001b[39m \u001b[43m_install_handlers\u001b[49m\u001b[43m(\u001b[49m\u001b[43mcp\u001b[49m\u001b[43m,\u001b[49m\u001b[43m \u001b[49m\u001b[43mformatters\u001b[49m\u001b[43m)\u001b[49m\n\u001b[1;32m     92\u001b[0m     _install_loggers(cp, handlers, disable_existing_loggers)\n\u001b[1;32m     93\u001b[0m \u001b[38;5;28;01mfinally\u001b[39;00m:\n",
      "File \u001b[0;32m/usr/lib64/python3.12/logging/config.py:164\u001b[0m, in \u001b[0;36m_install_handlers\u001b[0;34m(cp, formatters)\u001b[0m\n\u001b[1;32m    162\u001b[0m kwargs \u001b[38;5;241m=\u001b[39m section\u001b[38;5;241m.\u001b[39mget(\u001b[38;5;124m\"\u001b[39m\u001b[38;5;124mkwargs\u001b[39m\u001b[38;5;124m\"\u001b[39m, \u001b[38;5;124m'\u001b[39m\u001b[38;5;132;01m{}\u001b[39;00m\u001b[38;5;124m'\u001b[39m)\n\u001b[1;32m    163\u001b[0m kwargs \u001b[38;5;241m=\u001b[39m \u001b[38;5;28meval\u001b[39m(kwargs, \u001b[38;5;28mvars\u001b[39m(logging))\n\u001b[0;32m--> 164\u001b[0m h \u001b[38;5;241m=\u001b[39m \u001b[43mklass\u001b[49m\u001b[43m(\u001b[49m\u001b[38;5;241;43m*\u001b[39;49m\u001b[43margs\u001b[49m\u001b[43m,\u001b[49m\u001b[43m \u001b[49m\u001b[38;5;241;43m*\u001b[39;49m\u001b[38;5;241;43m*\u001b[39;49m\u001b[43mkwargs\u001b[49m\u001b[43m)\u001b[49m\n\u001b[1;32m    165\u001b[0m h\u001b[38;5;241m.\u001b[39mname \u001b[38;5;241m=\u001b[39m hand\n\u001b[1;32m    166\u001b[0m \u001b[38;5;28;01mif\u001b[39;00m \u001b[38;5;124m\"\u001b[39m\u001b[38;5;124mlevel\u001b[39m\u001b[38;5;124m\"\u001b[39m \u001b[38;5;129;01min\u001b[39;00m section:\n",
      "File \u001b[0;32m/usr/lib64/python3.12/logging/handlers.py:155\u001b[0m, in \u001b[0;36mRotatingFileHandler.__init__\u001b[0;34m(self, filename, mode, maxBytes, backupCount, encoding, delay, errors)\u001b[0m\n\u001b[1;32m    153\u001b[0m \u001b[38;5;28;01mif\u001b[39;00m \u001b[38;5;124m\"\u001b[39m\u001b[38;5;124mb\u001b[39m\u001b[38;5;124m\"\u001b[39m \u001b[38;5;129;01mnot\u001b[39;00m \u001b[38;5;129;01min\u001b[39;00m mode:\n\u001b[1;32m    154\u001b[0m     encoding \u001b[38;5;241m=\u001b[39m io\u001b[38;5;241m.\u001b[39mtext_encoding(encoding)\n\u001b[0;32m--> 155\u001b[0m \u001b[43mBaseRotatingHandler\u001b[49m\u001b[38;5;241;43m.\u001b[39;49m\u001b[38;5;21;43m__init__\u001b[39;49m\u001b[43m(\u001b[49m\u001b[38;5;28;43mself\u001b[39;49m\u001b[43m,\u001b[49m\u001b[43m \u001b[49m\u001b[43mfilename\u001b[49m\u001b[43m,\u001b[49m\u001b[43m \u001b[49m\u001b[43mmode\u001b[49m\u001b[43m,\u001b[49m\u001b[43m \u001b[49m\u001b[43mencoding\u001b[49m\u001b[38;5;241;43m=\u001b[39;49m\u001b[43mencoding\u001b[49m\u001b[43m,\u001b[49m\n\u001b[1;32m    156\u001b[0m \u001b[43m                             \u001b[49m\u001b[43mdelay\u001b[49m\u001b[38;5;241;43m=\u001b[39;49m\u001b[43mdelay\u001b[49m\u001b[43m,\u001b[49m\u001b[43m \u001b[49m\u001b[43merrors\u001b[49m\u001b[38;5;241;43m=\u001b[39;49m\u001b[43merrors\u001b[49m\u001b[43m)\u001b[49m\n\u001b[1;32m    157\u001b[0m \u001b[38;5;28mself\u001b[39m\u001b[38;5;241m.\u001b[39mmaxBytes \u001b[38;5;241m=\u001b[39m maxBytes\n\u001b[1;32m    158\u001b[0m \u001b[38;5;28mself\u001b[39m\u001b[38;5;241m.\u001b[39mbackupCount \u001b[38;5;241m=\u001b[39m backupCount\n",
      "File \u001b[0;32m/usr/lib64/python3.12/logging/handlers.py:58\u001b[0m, in \u001b[0;36mBaseRotatingHandler.__init__\u001b[0;34m(self, filename, mode, encoding, delay, errors)\u001b[0m\n\u001b[1;32m     54\u001b[0m \u001b[38;5;28;01mdef\u001b[39;00m \u001b[38;5;21m__init__\u001b[39m(\u001b[38;5;28mself\u001b[39m, filename, mode, encoding\u001b[38;5;241m=\u001b[39m\u001b[38;5;28;01mNone\u001b[39;00m, delay\u001b[38;5;241m=\u001b[39m\u001b[38;5;28;01mFalse\u001b[39;00m, errors\u001b[38;5;241m=\u001b[39m\u001b[38;5;28;01mNone\u001b[39;00m):\n\u001b[1;32m     55\u001b[0m \u001b[38;5;250m    \u001b[39m\u001b[38;5;124;03m\"\"\"\u001b[39;00m\n\u001b[1;32m     56\u001b[0m \u001b[38;5;124;03m    Use the specified filename for streamed logging\u001b[39;00m\n\u001b[1;32m     57\u001b[0m \u001b[38;5;124;03m    \"\"\"\u001b[39;00m\n\u001b[0;32m---> 58\u001b[0m     \u001b[43mlogging\u001b[49m\u001b[38;5;241;43m.\u001b[39;49m\u001b[43mFileHandler\u001b[49m\u001b[38;5;241;43m.\u001b[39;49m\u001b[38;5;21;43m__init__\u001b[39;49m\u001b[43m(\u001b[49m\u001b[38;5;28;43mself\u001b[39;49m\u001b[43m,\u001b[49m\u001b[43m \u001b[49m\u001b[43mfilename\u001b[49m\u001b[43m,\u001b[49m\u001b[43m \u001b[49m\u001b[43mmode\u001b[49m\u001b[38;5;241;43m=\u001b[39;49m\u001b[43mmode\u001b[49m\u001b[43m,\u001b[49m\n\u001b[1;32m     59\u001b[0m \u001b[43m                                 \u001b[49m\u001b[43mencoding\u001b[49m\u001b[38;5;241;43m=\u001b[39;49m\u001b[43mencoding\u001b[49m\u001b[43m,\u001b[49m\u001b[43m \u001b[49m\u001b[43mdelay\u001b[49m\u001b[38;5;241;43m=\u001b[39;49m\u001b[43mdelay\u001b[49m\u001b[43m,\u001b[49m\n\u001b[1;32m     60\u001b[0m \u001b[43m                                 \u001b[49m\u001b[43merrors\u001b[49m\u001b[38;5;241;43m=\u001b[39;49m\u001b[43merrors\u001b[49m\u001b[43m)\u001b[49m\n\u001b[1;32m     61\u001b[0m     \u001b[38;5;28mself\u001b[39m\u001b[38;5;241m.\u001b[39mmode \u001b[38;5;241m=\u001b[39m mode\n\u001b[1;32m     62\u001b[0m     \u001b[38;5;28mself\u001b[39m\u001b[38;5;241m.\u001b[39mencoding \u001b[38;5;241m=\u001b[39m encoding\n",
      "File \u001b[0;32m/usr/lib64/python3.12/logging/__init__.py:1231\u001b[0m, in \u001b[0;36mFileHandler.__init__\u001b[0;34m(self, filename, mode, encoding, delay, errors)\u001b[0m\n\u001b[1;32m   1229\u001b[0m     \u001b[38;5;28mself\u001b[39m\u001b[38;5;241m.\u001b[39mstream \u001b[38;5;241m=\u001b[39m \u001b[38;5;28;01mNone\u001b[39;00m\n\u001b[1;32m   1230\u001b[0m \u001b[38;5;28;01melse\u001b[39;00m:\n\u001b[0;32m-> 1231\u001b[0m     StreamHandler\u001b[38;5;241m.\u001b[39m\u001b[38;5;21m__init__\u001b[39m(\u001b[38;5;28mself\u001b[39m, \u001b[38;5;28;43mself\u001b[39;49m\u001b[38;5;241;43m.\u001b[39;49m\u001b[43m_open\u001b[49m\u001b[43m(\u001b[49m\u001b[43m)\u001b[49m)\n",
      "File \u001b[0;32m/usr/lib64/python3.12/logging/__init__.py:1263\u001b[0m, in \u001b[0;36mFileHandler._open\u001b[0;34m(self)\u001b[0m\n\u001b[1;32m   1258\u001b[0m \u001b[38;5;250m\u001b[39m\u001b[38;5;124;03m\"\"\"\u001b[39;00m\n\u001b[1;32m   1259\u001b[0m \u001b[38;5;124;03mOpen the current base file with the (original) mode and encoding.\u001b[39;00m\n\u001b[1;32m   1260\u001b[0m \u001b[38;5;124;03mReturn the resulting stream.\u001b[39;00m\n\u001b[1;32m   1261\u001b[0m \u001b[38;5;124;03m\"\"\"\u001b[39;00m\n\u001b[1;32m   1262\u001b[0m open_func \u001b[38;5;241m=\u001b[39m \u001b[38;5;28mself\u001b[39m\u001b[38;5;241m.\u001b[39m_builtin_open\n\u001b[0;32m-> 1263\u001b[0m \u001b[38;5;28;01mreturn\u001b[39;00m \u001b[43mopen_func\u001b[49m\u001b[43m(\u001b[49m\u001b[38;5;28;43mself\u001b[39;49m\u001b[38;5;241;43m.\u001b[39;49m\u001b[43mbaseFilename\u001b[49m\u001b[43m,\u001b[49m\u001b[43m \u001b[49m\u001b[38;5;28;43mself\u001b[39;49m\u001b[38;5;241;43m.\u001b[39;49m\u001b[43mmode\u001b[49m\u001b[43m,\u001b[49m\n\u001b[1;32m   1264\u001b[0m \u001b[43m                 \u001b[49m\u001b[43mencoding\u001b[49m\u001b[38;5;241;43m=\u001b[39;49m\u001b[38;5;28;43mself\u001b[39;49m\u001b[38;5;241;43m.\u001b[39;49m\u001b[43mencoding\u001b[49m\u001b[43m,\u001b[49m\u001b[43m \u001b[49m\u001b[43merrors\u001b[49m\u001b[38;5;241;43m=\u001b[39;49m\u001b[38;5;28;43mself\u001b[39;49m\u001b[38;5;241;43m.\u001b[39;49m\u001b[43merrors\u001b[49m\u001b[43m)\u001b[49m\n",
      "\u001b[0;31mFileNotFoundError\u001b[0m: [Errno 2] No such file or directory: '/home/calin/phd/qlbm/demos/benchmarks/qlbm-output/benchmark-compilers/qlbm.log'"
     ]
    }
   ],
   "source": [
    "lattice_files = [\n",
    "    \"../lattices/2d_8x8_0_obstacle.json\",\n",
    "    \"../lattices/2d_8x8_1_obstacle.json\",\n",
    "    \"../lattices/2d_8x8_2_obstacle.json\",\n",
    "]\n",
    "\n",
    "dummy_logger = getLogger(\"dummy\")\n",
    "# By logging at this point we ignore the output of circuit creation\n",
    "logging.config.fileConfig(\"compilers.conf\")\n",
    "logger = getLogger(\"qlbm\")"
   ]
  },
  {
   "cell_type": "code",
   "execution_count": null,
   "metadata": {},
   "outputs": [],
   "source": [
    "logger.info(\"Session: QISKIT\")\n",
    "benchmark(\n",
    "    lattice_files,\n",
    "    logger,\n",
    "    dummy_logger,\n",
    "    \"QISKIT\",\n",
    "    \"QULACS\",\n",
    "    [0, 1],\n",
    "    None,\n",
    "    num_repetitions=1,\n",
    ")"
   ]
  },
  {
   "cell_type": "code",
   "execution_count": null,
   "metadata": {},
   "outputs": [],
   "source": [
    "logger.info(\"Session: TKET\")\n",
    "benchmark(\n",
    "    lattice_files,\n",
    "    logger,\n",
    "    dummy_logger,\n",
    "    \"TKET\",\n",
    "    \"QULACS\",\n",
    "    [0, 1],\n",
    "    TketQulacsBackend(),\n",
    "    num_repetitions=1,\n",
    ")\n"
   ]
  }
 ],
 "metadata": {
  "kernelspec": {
   "display_name": "Python 3 (ipykernel)",
   "language": "python",
   "name": "python3"
  },
  "language_info": {
   "codemirror_mode": {
    "name": "ipython",
    "version": 3
   },
   "file_extension": ".py",
   "mimetype": "text/x-python",
   "name": "python",
   "nbconvert_exporter": "python",
   "pygments_lexer": "ipython3",
   "version": "3.12.5"
  }
 },
 "nbformat": 4,
 "nbformat_minor": 4
}
