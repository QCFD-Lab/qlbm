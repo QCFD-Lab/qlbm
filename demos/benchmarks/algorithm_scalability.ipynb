{
 "cells": [
  {
   "cell_type": "code",
   "execution_count": 39,
   "metadata": {},
   "outputs": [],
   "source": [
    "import logging.config\n",
    "from logging import Logger, getLogger\n",
    "from typing import List\n",
    "\n",
    "from pytket.extensions.qulacs import QulacsBackend as TketQulacsBackend\n",
    "\n",
    "from qlbm.components import (\n",
    "    CQLBM,\n",
    ")\n",
    "from qlbm.infra import CircuitCompiler\n",
    "from qlbm.lattice import CollisionlessLattice\n",
    "from qlbm.tools.utils import create_directory_and_parents\n"
   ]
  },
  {
   "cell_type": "code",
   "execution_count": 50,
   "metadata": {},
   "outputs": [],
   "source": [
    "from qlbm.tools.utils import get_circuit_properties\n",
    "\n",
    "\n",
    "def benchmark(\n",
    "    lattice_files: List[str],\n",
    "    logger: Logger,\n",
    "    dummy_logger: Logger,\n",
    "    compiler_platform: List[str],\n",
    "    target_platform: List[str],\n",
    "    optimization_levels: List[int],\n",
    "    backend: TketQulacsBackend | None,\n",
    "    num_repetitions: int = 5,\n",
    ") -> None:\n",
    "    for rep in range(num_repetitions):\n",
    "        logger.info(f\"Repetition #{rep + 1} of {num_repetitions}\")\n",
    "        for count, lattice_file in enumerate(lattice_files):\n",
    "            for opt_count, optimization_level in enumerate(optimization_levels):\n",
    "                logger.info(\n",
    "                    f\"Combination #{(count * len(optimization_levels)) + opt_count + 1} of {len(lattice_files)*len(optimization_levels)}\"\n",
    "                )\n",
    "\n",
    "                lattice_name = (\n",
    "                    lattice_file.split(\"/\")[-1].split(\".\")[0].replace(\"_\", \"-\")\n",
    "                )\n",
    "                lattice = CollisionlessLattice(lattice_file, logger=dummy_logger)\n",
    "                logger.info(\n",
    "                    f\"Lattice: {lattice_name}; opt={optimization_level}; num_qubits = {lattice.num_total_qubits};\"\n",
    "                )\n",
    "\n",
    "                algorithm = CQLBM(lattice, logger=dummy_logger)\n",
    "                logger.info(\n",
    "                    f\"Original circuit has properties: {get_circuit_properties(algorithm.circuit)}\"\n",
    "                )\n",
    "                compiler = CircuitCompiler(\n",
    "                    compiler_platform, target_platform, logger=logger\n",
    "                )\n",
    "\n",
    "                compiler.compile(\n",
    "                    compile_object=algorithm,\n",
    "                    backend=backend,\n",
    "                    optimization_level=optimization_level,\n",
    "                )"
   ]
  },
  {
   "cell_type": "code",
   "execution_count": 51,
   "metadata": {},
   "outputs": [],
   "source": [
    "NUM_SHOTS = 2**14\n",
    "NUM_STEPS = 5\n",
    "ROOT_OUTPUT_DIR = \"qlbm-output/benchmark-algorithm-scalability\"\n",
    "\n",
    "create_directory_and_parents(ROOT_OUTPUT_DIR)"
   ]
  },
  {
   "cell_type": "code",
   "execution_count": 52,
   "metadata": {},
   "outputs": [],
   "source": [
    "!mkdir -p qlbm-output/benchmark-algorithm-scalability && touch qlbm-output/benchmark-algorithm-scalability/qlbm.log\n",
    "!:> qlbm-output/benchmark-algorithm-scalability/qlbm.log"
   ]
  },
  {
   "cell_type": "code",
   "execution_count": 53,
   "metadata": {},
   "outputs": [],
   "source": [
    "lattice_files = [\n",
    "    \"../lattices/2d_8x8_0_obstacle.json\",\n",
    "    \"../lattices/2d_8x8_1_obstacle.json\",\n",
    "    \"../lattices/2d_8x8_2_obstacle.json\",\n",
    "]\n",
    "\n",
    "dummy_logger = getLogger(\"dummy\")\n",
    "# By logging at this point we ignore the output of circuit creation\n",
    "logging.config.fileConfig(\"algorithm_scalability_logging.conf\")\n",
    "logger = getLogger(\"qlbm\")"
   ]
  },
  {
   "cell_type": "code",
   "execution_count": 54,
   "metadata": {},
   "outputs": [
    {
     "name": "stderr",
     "output_type": "stream",
     "text": [
      "/home/calin/phd/qlbm/.venv/lib64/python3.11/site-packages/qiskit/providers/backend_compat.py:126: RuntimeWarning: No gate definition for unitary can be found and is being excluded from the generated target. You can use `custom_name_mapping` to provide a definition for this operation.\n",
      "  warnings.warn(\n",
      "/home/calin/phd/qlbm/.venv/lib64/python3.11/site-packages/qiskit/providers/backend_compat.py:126: RuntimeWarning: No gate definition for unitary can be found and is being excluded from the generated target. You can use `custom_name_mapping` to provide a definition for this operation.\n",
      "  warnings.warn(\n",
      "/home/calin/phd/qlbm/.venv/lib64/python3.11/site-packages/qiskit/providers/backend_compat.py:126: RuntimeWarning: No gate definition for unitary can be found and is being excluded from the generated target. You can use `custom_name_mapping` to provide a definition for this operation.\n",
      "  warnings.warn(\n"
     ]
    }
   ],
   "source": [
    "logger.info(\"Session: QISKIT\")\n",
    "benchmark(\n",
    "    lattice_files,\n",
    "    logger,\n",
    "    dummy_logger,\n",
    "    \"QISKIT\",\n",
    "    \"QULACS\",\n",
    "    [0],\n",
    "    None,\n",
    "    num_repetitions=1,\n",
    ")"
   ]
  },
  {
   "cell_type": "code",
   "execution_count": 55,
   "metadata": {},
   "outputs": [],
   "source": [
    "logger.info(\"Session: TKET\")\n",
    "benchmark(\n",
    "    lattice_files,\n",
    "    logger,\n",
    "    dummy_logger,\n",
    "    \"TKET\",\n",
    "    \"QULACS\",\n",
    "    [0],\n",
    "    TketQulacsBackend(),\n",
    "    num_repetitions=1,\n",
    ")\n"
   ]
  },
  {
   "cell_type": "code",
   "execution_count": 56,
   "metadata": {},
   "outputs": [],
   "source": [
    "log_file = \"qlbm-output/benchmark-algorithm-scalability/qlbm.log\"\n",
    "with open(log_file, \"r\") as f:\n",
    "    lines = f.readlines()\n",
    "\n",
    "session_line = [c for c, line in enumerate(lines) if \"Session\" in line][1]\n",
    "\n",
    "lines_statevector_true = lines[:session_line]\n",
    "lines_statevector_false = lines[session_line:]"
   ]
  },
  {
   "cell_type": "code",
   "execution_count": null,
   "metadata": {},
   "outputs": [],
   "source": [
    "# Process statevector=True lines\n",
    "combination_lines_indices = [\n",
    "    c for c, line in enumerate(lines_statevector_true) if \"Combination #\" in line\n",
    "]\n",
    "session_line_indices = [\n",
    "    c for c, line in enumerate(lines_statevector_true) if \"Session\" in line\n",
    "]\n",
    "\n",
    "sections = []\n",
    "for c in range(len((combination_lines_indices))):\n",
    "    if c < len(combination_lines_indices) - 1:\n",
    "        sections.append(\n",
    "            lines_statevector_true[\n",
    "                combination_lines_indices[c] : combination_lines_indices[c + 1]\n",
    "            ]\n",
    "        )\n",
    "    else:\n",
    "        sections.append(lines_statevector_true[combination_lines_indices[c] :])\n",
    "\n",
    "records = []\n",
    "for c, section in enumerate(sections):\n",
    "    section_info = section[1].split(\": \")[-1].split(\"' \")\n",
    "    lattice_name = section_info[0]\n",
    "    compiler_platform = section_info[1].split(\"=\")[-1]\n",
    "    opt_level = section_info[2].split(\"=\")[-1]\n",
    "    num_qubits = section_info[3].split(\"=\")[-1]\n",
    "\n",
    "    original_props = (\n",
    "        [line for line in section if \"Original circuit\" in line][0]\n",
    "        .split(\"(\")[-1]\n",
    "        .rstrip(\")\")\n",
    "        .split(\", \")\n",
    "    )\n",
    "    compiled_props = (\n",
    "        [line for line in section if \"Compiled circuit\" in line][0]\n",
    "        .split(\"(\")[-1]\n",
    "        .rstrip(\")\")\n",
    "        .split(\", \")\n",
    "    )\n",
    "    duration = int(section[-1].split()[-2])\n",
    "\n",
    "    records.append(\n",
    "        {\n",
    "            \"Lattice\": lattice_name[1],\n",
    "            \"Dimensions\": lattice_name[0].split(\"-\")[1],\n",
    "            \"Obstacles\": int(lattice_name.split(\"-\")[2]),\n",
    "            \"Circuit Qubits\": num_qubits,\n",
    "            \"Initial Depth\": 0,\n",
    "            \"Initial Gate No.\": 0,\n",
    "            \"Compiled Depth\": 0,\n",
    "            \"Compiled Gate No.\": 0,\n",
    "            \"Duration (ns)\": int(duration),\n",
    "        }\n",
    "    )\n",
    "\n",
    "sv_true_df = pd.DataFrame.from_records(statevector_true_records)\n",
    "sv_true_df"
   ]
  }
 ],
 "metadata": {
  "kernelspec": {
   "display_name": "Python 3 (ipykernel)",
   "language": "python",
   "name": "python3"
  },
  "language_info": {
   "codemirror_mode": {
    "name": "ipython",
    "version": 3
   },
   "file_extension": ".py",
   "mimetype": "text/x-python",
   "name": "python",
   "nbconvert_exporter": "python",
   "pygments_lexer": "ipython3",
   "version": "3.11.9"
  }
 },
 "nbformat": 4,
 "nbformat_minor": 4
}
