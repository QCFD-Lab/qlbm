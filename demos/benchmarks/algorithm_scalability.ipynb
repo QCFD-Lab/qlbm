{
 "cells": [
  {
   "cell_type": "markdown",
   "metadata": {},
   "source": [
    "# Algorithm Scalability\n",
    "\n",
    "This notebook showcases how `qlbm` enables the analysis of the properties of different QBM algorithms.\n",
    "\n",
    "We consider two lenses of scalability. First, we analyze the high-level scaling of algorithms as a function of the underlying lattice. Second, we consider the practical scalability of the algorithms after transpilation to more restrictive gate sets. In the latter, we also analyze the performance of compilation software on specific QBM instances."
   ]
  },
  {
   "cell_type": "code",
   "execution_count": null,
   "metadata": {},
   "outputs": [],
   "source": [
    "import logging.config\n",
    "from logging import Logger, getLogger\n",
    "from typing import List\n",
    "\n",
    "from pytket.extensions.qiskit import AerStateBackend as TketQiskitBackend\n",
    "from qiskit_aer import AerSimulator\n",
    "\n",
    "from qlbm.components import (\n",
    "    CQLBM,\n",
    ")\n",
    "from qlbm.infra import CircuitCompiler\n",
    "from qlbm.lattice import CollisionlessLattice\n",
    "from qlbm.tools.utils import create_directory_and_parents, get_circuit_properties"
   ]
  },
  {
   "cell_type": "code",
   "execution_count": null,
   "metadata": {},
   "outputs": [],
   "source": [
    "# Import analysis and plotting utilities\n",
    "import matplotlib.pyplot as plt\n",
    "import pandas as pd\n",
    "import seaborn as sns\n",
    "\n",
    "sns.set_theme()"
   ]
  },
  {
   "cell_type": "markdown",
   "metadata": {},
   "source": [
    "## Step 1: Setup\n",
    "\n",
    "Before analyzing the scalability of the quantum circuits, we first have to choose some the systems they model and the compilation tools we use. In this case, we vary the number of solid objcets in the fluid domain and study the depth and the number of gates of the resulting CQBM circuit."
   ]
  },
  {
   "cell_type": "code",
   "execution_count": null,
   "metadata": {},
   "outputs": [],
   "source": [
    "def benchmark(\n",
    "    lattice_dicts,\n",
    "    logger: Logger,\n",
    "    dummy_logger: Logger,\n",
    "    compiler_platform: List[str],\n",
    "    target_platform: List[str],\n",
    "    optimization_levels: List[int],\n",
    "    backend: TketQiskitBackend | None,\n",
    "    num_repetitions: int = 5,\n",
    ") -> None:\n",
    "    for rep in range(num_repetitions):\n",
    "        logger.info(f\"Repetition #{rep + 1} of {num_repetitions}\")\n",
    "        for count, lattice_dict in enumerate(lattice_dicts):\n",
    "            for opt_count, optimization_level in enumerate(optimization_levels):\n",
    "                logger.info(\n",
    "                    f\"Combination #{(count * len(optimization_levels)) + opt_count + 1} of {len(lattice_dicts)*len(optimization_levels)}\"\n",
    "                )\n",
    "\n",
    "                lattice = CollisionlessLattice(lattice_dict, logger=dummy_logger)\n",
    "\n",
    "                logger.info(\n",
    "                    f\"Lattice: {lattice.logger_name()}; compiler={compiler_platform}; opt={optimization_level}; num_qubits={lattice.num_total_qubits};\"\n",
    "                )\n",
    "\n",
    "                algorithm = CQLBM(lattice, logger=dummy_logger)\n",
    "                logger.info(\n",
    "                    f\"Original circuit has properties: {get_circuit_properties(algorithm.circuit)}\"\n",
    "                )\n",
    "                compiler = CircuitCompiler(\n",
    "                    compiler_platform, target_platform, logger=logger\n",
    "                )\n",
    "\n",
    "                compiler.compile(\n",
    "                    compile_object=algorithm,\n",
    "                    backend=backend,\n",
    "                    optimization_level=optimization_level,\n",
    "                )"
   ]
  },
  {
   "cell_type": "code",
   "execution_count": null,
   "metadata": {},
   "outputs": [],
   "source": [
    "ROOT_OUTPUT_DIR = \"qlbm-output/benchmark-algorithm-scalability\"\n",
    "\n",
    "create_directory_and_parents(ROOT_OUTPUT_DIR)"
   ]
  },
  {
   "cell_type": "code",
   "execution_count": null,
   "metadata": {},
   "outputs": [],
   "source": [
    "!mkdir -p qlbm-output/benchmark-algorithm-scalability && touch qlbm-output/benchmark-algorithm-scalability/qlbm.log\n",
    "!:> qlbm-output/benchmark-algorithm-scalability/qlbm.log"
   ]
  },
  {
   "cell_type": "code",
   "execution_count": null,
   "metadata": {},
   "outputs": [],
   "source": [
    "lattices = [\n",
    "    {\n",
    "        \"lattice\": {\"dim\": {\"x\": 8, \"y\": 8}, \"velocities\": {\"x\": 4, \"y\": 4}},\n",
    "        \"geometry\": [],\n",
    "    },  # 0 Obstacles\n",
    "    {\n",
    "        \"lattice\": {\"dim\": {\"x\": 8, \"y\": 8}, \"velocities\": {\"x\": 4, \"y\": 4}},\n",
    "        \"geometry\": [{\"shape\": \"cuboid\", \"x\": [5, 6], \"y\": [1, 2], \"boundary\": \"specular\"}],\n",
    "    },  # 1 Obstacle\n",
    "    {\n",
    "        \"lattice\": {\"dim\": {\"x\": 8, \"y\": 8}, \"velocities\": {\"x\": 4, \"y\": 4}},\n",
    "        \"geometry\": [\n",
    "            {\"shape\": \"cuboid\", \"x\": [5, 6], \"y\": [1, 2], \"boundary\": \"specular\"},\n",
    "            {\"shape\": \"cuboid\", \"x\": [5, 6], \"y\": [5, 6], \"boundary\": \"specular\"},\n",
    "        ],\n",
    "    },  # 2 Obstacles\n",
    "]\n",
    "\n",
    "dummy_logger = getLogger(\"dummy\")\n",
    "# By logging at this point we ignore the output of circuit creation\n",
    "logging.config.fileConfig(\"algorithm_scalability_logging.conf\")\n",
    "logger = getLogger(\"qlbm\")"
   ]
  },
  {
   "cell_type": "markdown",
   "metadata": {},
   "source": [
    "## Step 2: Benchmarking\n",
    "\n",
    "Now that we have setup our simulations and configered logging, we can simply run the simulations by calling the `benchmark` function!\n",
    "\n",
    "> **_CAUTION:_** Running the cells below will probably take a few minutes. Each cell should be run exactly once."
   ]
  },
  {
   "cell_type": "code",
   "execution_count": null,
   "metadata": {},
   "outputs": [],
   "source": [
    "# Compile to Qulacs gate set using Qiskit\n",
    "logger.info(\"Session: QISKIT\")\n",
    "benchmark(\n",
    "    lattices,\n",
    "    logger,\n",
    "    dummy_logger,\n",
    "    \"QISKIT\",\n",
    "    \"QISKIT\",\n",
    "    [0],\n",
    "    AerSimulator(),\n",
    "    num_repetitions=1,\n",
    ")"
   ]
  },
  {
   "cell_type": "code",
   "execution_count": null,
   "metadata": {},
   "outputs": [],
   "source": [
    "# Compile to Qulacs gate set using Tket\n",
    "logger.info(\"Session: TKET\")\n",
    "benchmark(\n",
    "    lattices,\n",
    "    logger,\n",
    "    dummy_logger,\n",
    "    \"TKET\",\n",
    "    \"QISKIT\",\n",
    "    [0],\n",
    "    AerSimulator(),\n",
    "    num_repetitions=1,\n",
    ")\n"
   ]
  },
  {
   "cell_type": "markdown",
   "metadata": {},
   "source": [
    "## Step 3: Analysis\n",
    "\n",
    "Once the compilation benchmarks have concluded, the performance logs created by `qlbm` will be under `qlbm-output/benchmark-algorithm-scalability/qlbm.log`.\n",
    "The scripts below will parse this file, extract useful information, format it, and plot it for convenient analysis."
   ]
  },
  {
   "cell_type": "code",
   "execution_count": null,
   "metadata": {},
   "outputs": [],
   "source": [
    "log_file = \"qlbm-output/benchmark-algorithm-scalability/qlbm.log\"\n",
    "with open(log_file, \"r\") as f:\n",
    "    lines = f.readlines()\n",
    "\n",
    "session_line = [c for c, line in enumerate(lines) if \"Session\" in line][1]\n",
    "\n",
    "lines_qiskit = lines[:session_line]\n",
    "lines_tket = lines[session_line:]"
   ]
  },
  {
   "cell_type": "code",
   "execution_count": null,
   "metadata": {},
   "outputs": [],
   "source": [
    "combination_lines_indices_qiskit, combination_lines_indices_tket = (\n",
    "    [c for c, line in enumerate(lines_qiskit) if \"Combination #\" in line],\n",
    "    [c for c, line in enumerate(lines_tket) if \"Combination #\" in line],\n",
    ")\n",
    "print(len(combination_lines_indices_qiskit + combination_lines_indices_tket))\n",
    "sections = []\n",
    "for c in range(len(combination_lines_indices_qiskit + combination_lines_indices_tket)):\n",
    "    if c < len(combination_lines_indices_qiskit):\n",
    "        if c < len(combination_lines_indices_qiskit) - 1:\n",
    "            sections.append(\n",
    "                lines_qiskit[\n",
    "                    combination_lines_indices_qiskit[\n",
    "                        c\n",
    "                    ] : combination_lines_indices_qiskit[c + 1]\n",
    "                ]\n",
    "            )\n",
    "        else:\n",
    "            sections.append(lines_qiskit[combination_lines_indices_qiskit[c] :])\n",
    "    else:\n",
    "        c_tket = c - len(combination_lines_indices_qiskit)\n",
    "        if c_tket < len(combination_lines_indices_tket) - 1:\n",
    "            sections.append(\n",
    "                lines_tket[\n",
    "                    combination_lines_indices_tket[\n",
    "                        c_tket\n",
    "                    ] : combination_lines_indices_tket[c_tket + 1]\n",
    "                ]\n",
    "            )\n",
    "        else:\n",
    "            sections.append(lines_tket[combination_lines_indices_tket[c_tket] :])\n",
    "\n",
    "records = []\n",
    "for c, section in enumerate(sections):\n",
    "    section_info = (\n",
    "        [line for line in section if \"Lattice: \" in line][0]\n",
    "        .rstrip(\"\\n\")\n",
    "        .split(\": \")[-1]\n",
    "        .split(\"; \")\n",
    "    )\n",
    "    lattice_name = section_info[0]\n",
    "    compiler_platform = section_info[1].split(\"=\")[-1]\n",
    "    opt_level = section_info[2].split(\"=\")[-1]\n",
    "    num_qubits = section_info[3].split(\"=\")[-1][:-1]\n",
    "\n",
    "    original_props = (\n",
    "        [line for line in section if \"Original circuit\" in line][0]\n",
    "        .split(\"(\")[-1]\n",
    "        .rstrip(\"\\n)\")\n",
    "        .split(\", \")\n",
    "    )\n",
    "    compiled_props = (\n",
    "        [line for line in section if \"Compiled circuit\" in line][0]\n",
    "        .split(\"(\")[-1]\n",
    "        .rstrip(\"\\n)\")\n",
    "        .split(\", \")\n",
    "    )\n",
    "    duration = int(\n",
    "        [line for line in section if \"Compilation took\" in line][0].split()[-2]\n",
    "    )\n",
    "\n",
    "    records.append(\n",
    "        {\n",
    "            \"Lattice\": lattice_name,\n",
    "            \"Dimensions\": lattice_name.split(\"-\")[1],\n",
    "            \"Obstacles\": int(lattice_name.split(\"-\")[2]),\n",
    "            \"Circuit Qubits\": num_qubits,\n",
    "            \"Initial Depth\": int(original_props[2]),\n",
    "            \"Initial Gate No.\": int(original_props[3]),\n",
    "            \"Compiled Depth\": int(compiled_props[2]),\n",
    "            \"Compiled Gate No.\": int(compiled_props[3]),\n",
    "            \"Duration (ns)\": int(duration),\n",
    "            \"Duration (s)\": int(duration) / 1e9,\n",
    "            \"Compiler\": \"QISKIT\"\n",
    "            if c < len(combination_lines_indices_qiskit)\n",
    "            else \"TKET\",\n",
    "        }\n",
    "    )\n",
    "\n",
    "df = pd.DataFrame.from_records(records)"
   ]
  },
  {
   "cell_type": "code",
   "execution_count": null,
   "metadata": {},
   "outputs": [],
   "source": [
    "# We can have a look at the raw data\n",
    "df"
   ]
  },
  {
   "cell_type": "code",
   "execution_count": null,
   "metadata": {},
   "outputs": [],
   "source": [
    "sns.lineplot(\n",
    "    df,\n",
    "    x=\"Obstacles\",\n",
    "    y=\"Initial Depth\",\n",
    "    markers=True,\n",
    ")\n",
    "plt.xticks(pd.unique(df[\"Obstacles\"]))\n",
    "plt.title(\"Circuit Depth Comparison\")"
   ]
  },
  {
   "cell_type": "code",
   "execution_count": null,
   "metadata": {},
   "outputs": [],
   "source": [
    "sns.lineplot(\n",
    "    df,\n",
    "    x=\"Obstacles\",\n",
    "    y=\"Initial Gate No.\",\n",
    "    markers=True,\n",
    ")\n",
    "plt.xticks(pd.unique(df[\"Obstacles\"]))\n",
    "plt.title(\"Circuit Gate Number Comparison\")"
   ]
  },
  {
   "cell_type": "code",
   "execution_count": null,
   "metadata": {},
   "outputs": [],
   "source": [
    "sns.lineplot(\n",
    "    df,\n",
    "    x=\"Obstacles\",\n",
    "    y=\"Compiled Depth\",\n",
    "    hue=\"Compiler\",\n",
    "    style=\"Compiler\",\n",
    "    markers=True,\n",
    ")\n",
    "plt.xticks(pd.unique(df[\"Obstacles\"]))\n",
    "plt.title(\"Compilation Depth Comparison\")"
   ]
  },
  {
   "cell_type": "code",
   "execution_count": null,
   "metadata": {},
   "outputs": [],
   "source": [
    "sns.lineplot(\n",
    "    df,\n",
    "    x=\"Obstacles\",\n",
    "    y=\"Compiled Gate No.\",\n",
    "    hue=\"Compiler\",\n",
    "    style=\"Compiler\",\n",
    "    markers=True,\n",
    ")\n",
    "plt.xticks(pd.unique(df[\"Obstacles\"]))\n",
    "plt.title(\"Compilation Gate Comparison\")"
   ]
  },
  {
   "cell_type": "code",
   "execution_count": null,
   "metadata": {},
   "outputs": [],
   "source": [
    "g = sns.lineplot(\n",
    "    df,\n",
    "    x=\"Obstacles\",\n",
    "    y=\"Duration (s)\",\n",
    "    hue=\"Compiler\",\n",
    "    style=\"Compiler\",\n",
    "    markers=True,\n",
    ")\n",
    "plt.xticks(pd.unique(df[\"Obstacles\"]))\n",
    "plt.title(\"Compilation Duration Comparison\")"
   ]
  },
  {
   "cell_type": "code",
   "execution_count": null,
   "metadata": {},
   "outputs": [],
   "source": []
  }
 ],
 "metadata": {
  "kernelspec": {
   "display_name": "Python 3 (ipykernel)",
   "language": "python",
   "name": "python3"
  },
  "language_info": {
   "codemirror_mode": {
    "name": "ipython",
    "version": 3
   },
   "file_extension": ".py",
   "mimetype": "text/x-python",
   "name": "python",
   "nbconvert_exporter": "python",
   "pygments_lexer": "ipython3",
   "version": "3.12.10"
  }
 },
 "nbformat": 4,
 "nbformat_minor": 4
}
