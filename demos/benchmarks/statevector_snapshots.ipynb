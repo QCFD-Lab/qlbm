{
 "cells": [
  {
   "cell_type": "markdown",
   "metadata": {},
   "source": [
    "# Statevector snapshot comparison\n",
    "\n",
    "Statevector snapshots are a technique that enables the reduction of simulation time from quadratic to linear for certain QBM algorithms.\n",
    "Typically, simulating $n$ steps of a QBM requires $\\frac{n(n+1)}{2}$ time step circuits, and the longest circuit is exactly $n$ time steps long.\n",
    "\n",
    "Using the statevector sampling method, `qlbm` reduces this to just $n$ total time step simulations by passing read-only copies of the statevector between different components. With this method, a single time step circuit needs to be compiled, which can be reused for all $n$ iterations.\n",
    "\n",
    "Note that since snapshtos requrie a full and accurate copy of the underlying statevector, this techinque is only feasible on simulators. Within `qlbm`, statevector snapshots can be enabled by toggling the `statevector_snapshots` parameter of the `run` method of a `Runner`. More generally, statevector snapshots are built into `qlbm`'s _reinitialization_ interface, which occurs at the transition between timesteps of QBM algorithms.\n",
    "\n",
    "In this notebook, we showcase this feature and analyse its impact."
   ]
  },
  {
   "cell_type": "code",
   "execution_count": null,
   "metadata": {},
   "outputs": [],
   "source": [
    "%pip install qlbm matplotlib seaborn pandas"
   ]
  },
  {
   "cell_type": "code",
   "execution_count": null,
   "metadata": {},
   "outputs": [],
   "source": [
    "import logging.config\n",
    "from logging import Logger, getLogger\n",
    "\n",
    "from qiskit_aer import AerSimulator\n",
    "\n",
    "from qlbm.components import (\n",
    "    CQLBM,\n",
    "    CollisionlessInitialConditions,\n",
    "    EmptyPrimitive,\n",
    "    GridMeasurement,\n",
    ")\n",
    "from qlbm.infra import QiskitRunner, SimulationConfig\n",
    "from qlbm.lattice import CollisionlessLattice\n",
    "from qlbm.tools.utils import create_directory_and_parents, get_circuit_properties"
   ]
  },
  {
   "cell_type": "code",
   "execution_count": null,
   "metadata": {},
   "outputs": [],
   "source": [
    "# Import analysis and plotting utilities\n",
    "import matplotlib.pyplot as plt\n",
    "import pandas as pd\n",
    "import seaborn as sns\n",
    "\n",
    "sns.set_theme()"
   ]
  },
  {
   "cell_type": "markdown",
   "metadata": {},
   "source": [
    "## Step 1: Setup\n",
    "\n",
    "Before benchmarking the simulations, we first have to choose some behaviour to simulate and parameters for our quantum circuits."
   ]
  },
  {
   "cell_type": "code",
   "execution_count": null,
   "metadata": {},
   "outputs": [],
   "source": [
    "def benchmark(\n",
    "    lattice_dicts,\n",
    "    num_shots: int,\n",
    "    num_steps: int,\n",
    "    statevector_snapshots: bool,\n",
    "    statevector_sampling: bool,\n",
    "    logger: Logger,\n",
    "    dummy_logger: Logger,\n",
    "    root_output_dir: str,\n",
    "    target_platform=\"QISKIT\",\n",
    "    compiler_platform=\"QISKIT\",\n",
    "    execution_backend=AerSimulator(method=\"statevector\"),\n",
    "    sampling_backend=AerSimulator(method=\"statevector\"),\n",
    "    num_repetitions: int = 5,\n",
    ") -> None:\n",
    "    for rep in range(num_repetitions):\n",
    "        logger.info(f\"Repetition #{rep} of {num_repetitions}\")\n",
    "        for count, lattice_dict in enumerate(lattice_dicts):\n",
    "            logger.info(f\"Combination #{count + 1} of {len(lattice_dicts)}\")\n",
    "\n",
    "            lattice = CollisionlessLattice(lattice_dict, logger=dummy_logger)\n",
    "            logger.info(\n",
    "                f\"Lattice={lattice.logger_name()}, num_qubits={lattice.num_total_qubits}\"\n",
    "            )\n",
    "\n",
    "            output_dir = f\"{root_output_dir}/qiskit-{lattice.logger_name()}-{statevector_snapshots}\"\n",
    "\n",
    "            create_directory_and_parents(output_dir)\n",
    "\n",
    "            cfg = SimulationConfig(\n",
    "                initial_conditions=CollisionlessInitialConditions(\n",
    "                    lattice, logger=dummy_logger\n",
    "                ),\n",
    "                algorithm=CQLBM(lattice, logger=dummy_logger),\n",
    "                postprocessing=EmptyPrimitive(lattice, logger=dummy_logger),\n",
    "                measurement=GridMeasurement(lattice, logger=dummy_logger),\n",
    "                target_platform=target_platform,\n",
    "                compiler_platform=compiler_platform,\n",
    "                optimization_level=0,\n",
    "                statevector_sampling=statevector_sampling,\n",
    "                execution_backend=execution_backend,\n",
    "                sampling_backend=sampling_backend,\n",
    "                logger=dummy_logger,\n",
    "            )\n",
    "\n",
    "            cfg.prepare_for_simulation()\n",
    "\n",
    "            logger.info(\n",
    "                f\"Final circuit properties: {get_circuit_properties(cfg.algorithm)}\"\n",
    "            )\n",
    "            # Create a runner object to simulate the circuit\n",
    "            runner = QiskitRunner(cfg, lattice, logger=logger)\n",
    "\n",
    "            # Simulate the circuits using both snapshots and sampling\n",
    "            runner.run(\n",
    "                num_steps,  # Number of time steps\n",
    "                num_shots,  # Number of shots per time step\n",
    "                output_dir,\n",
    "                statevector_snapshots=statevector_snapshots,\n",
    "            )"
   ]
  },
  {
   "cell_type": "code",
   "execution_count": null,
   "metadata": {},
   "outputs": [],
   "source": [
    "!mkdir -p qlbm-output/benchmark-statevector-snapshots/ && touch qlbm-output/qiskit-qulacs-comparison/qlbm.log\n",
    "!:> qlbm-output/benchmark-statevector-snapshots"
   ]
  },
  {
   "cell_type": "code",
   "execution_count": null,
   "metadata": {},
   "outputs": [],
   "source": [
    "NUM_SHOTS = 2**12\n",
    "NUM_STEPS = 4\n",
    "NUM_REPS = 3\n",
    "ROOT_OUTPUT_DIR = \"qlbm-output/benchmark-statevector-snapshots\""
   ]
  },
  {
   "cell_type": "code",
   "execution_count": null,
   "metadata": {},
   "outputs": [],
   "source": [
    "create_directory_and_parents(ROOT_OUTPUT_DIR)\n",
    "\n",
    "lattices = [\n",
    "    {\n",
    "        \"lattice\": {\"dim\": {\"x\": 8, \"y\": 8}, \"velocities\": {\"x\": 4, \"y\": 4}},\n",
    "        \"geometry\": [],\n",
    "    },\n",
    "    {\n",
    "        \"lattice\": {\"dim\": {\"x\": 8, \"y\": 8}, \"velocities\": {\"x\": 4, \"y\": 4}},\n",
    "        \"geometry\": [{\"x\": [5, 6], \"y\": [1, 2], \"boundary\": \"specular\"}],\n",
    "    },\n",
    "    {\n",
    "        \"lattice\": {\"dim\": {\"x\": 8, \"y\": 8}, \"velocities\": {\"x\": 4, \"y\": 4}},\n",
    "        \"geometry\": [\n",
    "            {\"x\": [5, 6], \"y\": [1, 2], \"boundary\": \"specular\"},\n",
    "            {\"x\": [5, 6], \"y\": [5, 6], \"boundary\": \"specular\"},\n",
    "        ],\n",
    "    },\n",
    "]\n",
    "\n",
    "dummy_logger = getLogger(\"dummy\")\n",
    "\n",
    "# By logging at this point we ignore the output of circuit creation\n",
    "logging.config.fileConfig(\"statevector_snapshots_logging.conf\")\n",
    "logger = getLogger(\"qlbm\")"
   ]
  },
  {
   "cell_type": "markdown",
   "metadata": {},
   "source": [
    "## Step 2: Simulation\n",
    "\n",
    "Now that we have setup our simulations and configered logging, we can simply run the simulations by calling the `benchmark` function!\n",
    "\n",
    "> **_CAUTION:_** Running the cells below will probably take a few minutes. Each cell should be run exactly once."
   ]
  },
  {
   "cell_type": "code",
   "execution_count": null,
   "metadata": {},
   "outputs": [],
   "source": [
    "logger.info(\"Session: snapshots=True\")\n",
    "benchmark(\n",
    "    lattices,\n",
    "    NUM_SHOTS,\n",
    "    NUM_STEPS,\n",
    "    True,\n",
    "    True,\n",
    "    logger,\n",
    "    dummy_logger,\n",
    "    ROOT_OUTPUT_DIR,\n",
    "    num_repetitions=NUM_REPS,\n",
    ")"
   ]
  },
  {
   "cell_type": "code",
   "execution_count": null,
   "metadata": {},
   "outputs": [],
   "source": [
    "logger.info(\"Session: snapshots=False\")\n",
    "benchmark(\n",
    "    lattices,\n",
    "    NUM_SHOTS,\n",
    "    NUM_STEPS,\n",
    "    False,\n",
    "    False,\n",
    "    logger,\n",
    "    dummy_logger,\n",
    "    ROOT_OUTPUT_DIR,\n",
    "    num_repetitions=NUM_REPS,\n",
    ")"
   ]
  },
  {
   "cell_type": "markdown",
   "metadata": {},
   "source": [
    "## Step 3: Analysis\n",
    "\n",
    "Once the simulation has concluded, the performance logs created by `qlbm` will be under `qlbm-output/benchmark-statevector-snapshots/qlbm.log`.\n",
    "The scripts below will parse this file, extract useful information, format it, and plot it for convenient analysis."
   ]
  },
  {
   "cell_type": "code",
   "execution_count": null,
   "metadata": {},
   "outputs": [],
   "source": [
    "log_file = \"qlbm-output/benchmark-statevector-snapshots/qlbm.log\"\n",
    "with open(log_file, \"r\") as f:\n",
    "    lines = f.readlines()\n",
    "\n",
    "session_line = [c for c, line in enumerate(lines) if \"Session\" in line][1]\n",
    "\n",
    "lines_statevector_true = lines[:session_line]\n",
    "lines_statevector_false = lines[session_line:]"
   ]
  },
  {
   "cell_type": "code",
   "execution_count": null,
   "metadata": {},
   "outputs": [],
   "source": [
    "# Process statevector=True lines\n",
    "combination_lines_indices = [\n",
    "    c for c, line in enumerate(lines_statevector_true) if \"Combination #\" in line\n",
    "]\n",
    "\n",
    "sections = []\n",
    "for c in range(len((combination_lines_indices))):\n",
    "    if c < len(combination_lines_indices) - 1:\n",
    "        sections.append(\n",
    "            lines_statevector_true[\n",
    "                combination_lines_indices[c] : combination_lines_indices[c + 1]\n",
    "            ]\n",
    "        )\n",
    "    else:\n",
    "        sections.append(lines_statevector_true[combination_lines_indices[c] :])\n",
    "\n",
    "statevector_true_records = []\n",
    "for section in sections:\n",
    "    sec_info = section[1].split(\"INFO: \")[-1].rstrip().split(\", \")\n",
    "    time_elapsed_ns = section[-1].split(\"INFO: \")[-1].rstrip().split()[-2]\n",
    "    step_simulation_line_indices = [\n",
    "        c for c, line in enumerate(section) if \"Main circuit for step\" in line\n",
    "    ]\n",
    "    total_duration = 0\n",
    "    for sl in step_simulation_line_indices:\n",
    "        step_number = section[sl].split(\"for step \")[-1].split()[0]\n",
    "        props = section[sl].split(\"INFO: \")[-1].rstrip().split(\", \")[1:]\n",
    "        duration = section[sl + 1].split()[-2]\n",
    "        total_duration += int(duration)\n",
    "        statevector_true_records.append(\n",
    "            {\n",
    "                \"Lattice\": sec_info[0].split(\"=\")[-1].split(\"/\")[-1].split(\".\")[0],\n",
    "                \"Dimensions\": sec_info[0].split(\"=\")[-1].split(\"-\")[1],\n",
    "                \"Obstacles\": int(sec_info[0].split(\"=\")[-1].split(\"-\")[-2]),\n",
    "                \"Circuit Qubits\": int(sec_info[1].split(\"=\")[-1]),\n",
    "                \"Step\": int(step_number),\n",
    "                \"Depth\": int(props[1]),\n",
    "                \"Gates\": int(props[-1][:-1]),\n",
    "                \"Duration (ns)\": int(duration),\n",
    "                \"Cumulative Duration (ns)\": int(total_duration),\n",
    "                \"Snapshots\": True,\n",
    "            }\n",
    "        )\n",
    "\n",
    "sv_true_df = pd.DataFrame.from_records(statevector_true_records)\n",
    "sv_true_df"
   ]
  },
  {
   "cell_type": "code",
   "execution_count": null,
   "metadata": {},
   "outputs": [],
   "source": [
    "# Process statevector=False lines\n",
    "combination_lines_indices = [\n",
    "    c for c, line in enumerate(lines_statevector_false) if \"Combination #\" in line\n",
    "]\n",
    "\n",
    "sections = []\n",
    "for c in range(len((combination_lines_indices))):\n",
    "    if c < len(combination_lines_indices) - 1:\n",
    "        sections.append(\n",
    "            lines_statevector_false[\n",
    "                combination_lines_indices[c] : combination_lines_indices[c + 1]\n",
    "            ]\n",
    "        )\n",
    "    else:\n",
    "        sections.append(lines_statevector_false[combination_lines_indices[c] :])\n",
    "\n",
    "statevector_false_records = []\n",
    "for section in sections:\n",
    "    sec_info = section[1].split(\"INFO: \")[-1].rstrip().split(\", \")\n",
    "    time_elapsed_ns = section[-1].split(\"INFO: \")[-1].rstrip().split()[-2]\n",
    "    step_simulation_line_indices = [\n",
    "        c for c, line in enumerate(section) if \"Main circuit for step\" in line\n",
    "    ]\n",
    "    total_duration = 0\n",
    "    for sl in step_simulation_line_indices:\n",
    "        step_number = section[sl].split(\"for step \")[-1].split()[0]\n",
    "        props = section[sl].split(\"INFO: \")[-1].rstrip().split(\", \")[1:]\n",
    "        duration = section[sl + 1].split()[-2]\n",
    "\n",
    "        total_duration += int(duration)\n",
    "        statevector_false_records.append(\n",
    "            {\n",
    "                \"Lattice\": sec_info[0].split(\"=\")[-1].split(\"/\")[-1].split(\".\")[0],\n",
    "                \"Dimensions\": sec_info[0].split(\"=\")[-1].split(\"-\")[1],\n",
    "                \"Obstacles\": int(sec_info[0].split(\"=\")[-1].split(\"-\")[-2]),\n",
    "                \"Circuit Qubits\": int(sec_info[1].split(\"=\")[-1]),\n",
    "                \"Step\": int(step_number),\n",
    "                \"Depth\": int(props[1]),\n",
    "                \"Gates\": int(props[-1][:-1]),\n",
    "                \"Duration (ns)\": int(duration),\n",
    "                \"Cumulative Duration (ns)\": int(total_duration),\n",
    "                \"Snapshots\": False,\n",
    "            }\n",
    "        )\n",
    "\n",
    "sv_false_df = pd.DataFrame.from_records(statevector_false_records)\n",
    "sv_false_df"
   ]
  },
  {
   "cell_type": "code",
   "execution_count": null,
   "metadata": {},
   "outputs": [],
   "source": [
    "cdf = pd.concat([sv_true_df, sv_false_df])\n",
    "cdf[\"Duration (s)\"] = cdf[\"Duration (ns)\"] / 1e9\n",
    "cdf[\"Cumulative Duration (s)\"] = cdf[\"Cumulative Duration (ns)\"] / 1e9"
   ]
  },
  {
   "cell_type": "code",
   "execution_count": null,
   "metadata": {},
   "outputs": [],
   "source": [
    "ax = sns.lineplot(\n",
    "    cdf,\n",
    "    x=\"Step\",\n",
    "    y=\"Cumulative Duration (s)\",\n",
    "    hue=\"Obstacles\",\n",
    "    style=\"Snapshots\",\n",
    "    markers=True,\n",
    ")\n",
    "# plt.yscale(\"log\")\n",
    "plt.xticks(pd.unique(cdf[\"Step\"]))\n",
    "ax.legend(loc=\"center left\", bbox_to_anchor=(1, 0.5))"
   ]
  },
  {
   "cell_type": "code",
   "execution_count": null,
   "metadata": {},
   "outputs": [],
   "source": []
  },
  {
   "cell_type": "code",
   "execution_count": null,
   "metadata": {},
   "outputs": [],
   "source": []
  }
 ],
 "metadata": {
  "kernelspec": {
   "display_name": "Python 3 (ipykernel)",
   "language": "python",
   "name": "python3"
  },
  "language_info": {
   "codemirror_mode": {
    "name": "ipython",
    "version": 3
   },
   "file_extension": ".py",
   "mimetype": "text/x-python",
   "name": "python",
   "nbconvert_exporter": "python",
   "pygments_lexer": "ipython3",
   "version": "3.12.5"
  }
 },
 "nbformat": 4,
 "nbformat_minor": 4
}
