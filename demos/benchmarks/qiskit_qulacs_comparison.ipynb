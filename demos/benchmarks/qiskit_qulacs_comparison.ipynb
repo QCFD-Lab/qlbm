{
 "cells": [
  {
   "cell_type": "markdown",
   "metadata": {},
   "source": [
    "# This demo is deprecated and only works with older versions of `qlbm`.\n",
    "\n",
    "### Runtime Comparison\n",
    "\n",
    "This notebook showcases how `qlbm` enables the comparison of multiple runners for the analysis of runtime performance of QBMs.\n",
    "\n",
    "We will use the built-in logger of `qlbm` to extract performance data and analyse which of Qiskit and Qulacs perform better on a set of benchmarks."
   ]
  },
  {
   "cell_type": "code",
   "execution_count": null,
   "metadata": {},
   "outputs": [],
   "source": [
    "%pip install qlbm matplotlib seaborn pandas"
   ]
  },
  {
   "cell_type": "code",
   "execution_count": null,
   "metadata": {},
   "outputs": [],
   "source": [
    "# Import the required runtime utilities\n",
    "import logging.config\n",
    "from logging import Logger, getLogger\n",
    "\n",
    "from qiskit_aer import AerSimulator\n",
    "\n",
    "from qlbm.components import (\n",
    "    CQLBM,\n",
    "    CollisionlessInitialConditions,\n",
    "    EmptyPrimitive,\n",
    "    GridMeasurement,\n",
    ")\n",
    "from qlbm.infra import QiskitRunner, QulacsRunner, SimulationConfig\n",
    "from qlbm.lattice import CollisionlessLattice\n",
    "from qlbm.tools.utils import get_circuit_properties"
   ]
  },
  {
   "cell_type": "code",
   "execution_count": null,
   "metadata": {},
   "outputs": [],
   "source": [
    "# Import analysis and plotting utilities\n",
    "import matplotlib.pyplot as plt\n",
    "import pandas as pd\n",
    "import seaborn as sns\n",
    "\n",
    "sns.set_theme()"
   ]
  },
  {
   "cell_type": "markdown",
   "metadata": {},
   "source": [
    "## Step 1: Setup\n",
    "\n",
    "Before benchmarking the simulations, we first have to choose some behaviour to simulate and parameters for our quantum circuits."
   ]
  },
  {
   "cell_type": "code",
   "execution_count": null,
   "metadata": {},
   "outputs": [],
   "source": [
    "def benchmark(\n",
    "    lattice_dicts,\n",
    "    num_steps: int,\n",
    "    num_shots: int,\n",
    "    statevector_snapshots: bool,\n",
    "    statevector_sampling: bool,\n",
    "    logger: Logger,\n",
    "    dummy_logger: Logger,\n",
    ") -> None:\n",
    "    for count, lattice_dict in enumerate(lattice_dicts):\n",
    "        logger.info(f\"Combination #{count + 1} of {len(lattice_dicts)}\")\n",
    "\n",
    "        lattice = CollisionlessLattice(lattice_dict, logger=dummy_logger)\n",
    "        logger.info(\n",
    "            f\"Lattice={lattice.logger_name()}, num_qubits={lattice.num_total_qubits}\"\n",
    "        )\n",
    "\n",
    "        ####################\n",
    "        # Running Qiskit\n",
    "        ####################\n",
    "\n",
    "        logger.info(\"Executing QISKIT...\")\n",
    "        output_dir = f\"qlbm-output/qiskit-qulacs-comparison/qiskit-{lattice.logger_name()}-{statevector_snapshots}-{statevector_snapshots}\"\n",
    "\n",
    "        cfg = SimulationConfig(\n",
    "            initial_conditions=CollisionlessInitialConditions(lattice, dummy_logger),\n",
    "            algorithm=CQLBM(lattice, dummy_logger),\n",
    "            postprocessing=EmptyPrimitive(lattice, dummy_logger),\n",
    "            measurement=GridMeasurement(lattice, dummy_logger),\n",
    "            target_platform=\"QISKIT\",\n",
    "            compiler_platform=\"QISKIT\",\n",
    "            optimization_level=0,\n",
    "            statevector_sampling=statevector_sampling,\n",
    "            execution_backend=AerSimulator(method=\"statevector\"),\n",
    "            sampling_backend=AerSimulator(method=\"statevector\"),\n",
    "            logger=dummy_logger,\n",
    "        )\n",
    "\n",
    "        cfg.prepare_for_simulation()\n",
    "        logger.info(\n",
    "            f\"Final circuit properties: {get_circuit_properties(cfg.algorithm)}\"\n",
    "        )\n",
    "\n",
    "        # Create a runner object to simulate the circuit\n",
    "        runner = QiskitRunner(cfg, lattice, logger=logger)\n",
    "\n",
    "        # Simulate the circuits using both snapshots and sampling\n",
    "        runner.run(\n",
    "            num_steps,  # Number of time steps\n",
    "            num_shots,  # Number of shots per time step\n",
    "            output_dir,\n",
    "            statevector_snapshots=statevector_snapshots,\n",
    "        )\n",
    "\n",
    "        ####################\n",
    "        # Running Qulacs\n",
    "        ####################\n",
    "\n",
    "        logger.info(\"Executing QULACS...\")\n",
    "        output_dir = f\"qlbm-output/qiskit-qulacs-comparison/qulacs-{lattice.logger_name()}-{statevector_snapshots}-{statevector_snapshots}\"\n",
    "\n",
    "        cfg.prepare_for_simulation()\n",
    "        logger.info(\n",
    "            f\"Final circuit properties: {get_circuit_properties(cfg.algorithm)}\"\n",
    "        )\n",
    "        cfg = SimulationConfig(\n",
    "            initial_conditions=CollisionlessInitialConditions(lattice, dummy_logger),\n",
    "            algorithm=CQLBM(lattice, dummy_logger),\n",
    "            postprocessing=EmptyPrimitive(lattice, dummy_logger),\n",
    "            measurement=GridMeasurement(lattice, dummy_logger),\n",
    "            target_platform=\"QULACS\",\n",
    "            compiler_platform=\"TKET\",\n",
    "            optimization_level=0,\n",
    "            statevector_sampling=statevector_sampling,\n",
    "            execution_backend=None,\n",
    "            sampling_backend=AerSimulator(method=\"statevector\"),\n",
    "            logger=dummy_logger,\n",
    "        )\n",
    "        cfg.prepare_for_simulation()\n",
    "        # Create a runner object to simulate the circuit\n",
    "        runner = QulacsRunner(cfg, lattice, logger=logger)\n",
    "\n",
    "        # Simulate the circuits using both snapshots and sampling\n",
    "        runner.run(\n",
    "            num_steps,  # Number of time steps\n",
    "            num_shots,  # Number of shots per time step\n",
    "            output_dir,\n",
    "            statevector_snapshots=statevector_snapshots,\n",
    "        )"
   ]
  },
  {
   "cell_type": "code",
   "execution_count": null,
   "metadata": {},
   "outputs": [],
   "source": [
    "!mkdir -p qlbm-output/qiskit-qulacs-comparison/ && touch qlbm-output/qiskit-qulacs-comparison/qlbm.log\n",
    "!:> qlbm-output/qiskit-qulacs-comparison/qlbm.log"
   ]
  },
  {
   "cell_type": "code",
   "execution_count": null,
   "metadata": {},
   "outputs": [],
   "source": [
    "# Define some parameters to experiment with\n",
    "NUM_SHOTS = 2**13\n",
    "NUM_STEPS = 3\n",
    "\n",
    "lattices = [\n",
    "    {\n",
    "        \"lattice\": {\"dim\": {\"x\": 8, \"y\": 8}, \"velocities\": {\"x\": 4, \"y\": 4}},\n",
    "        \"geometry\": [],\n",
    "    },\n",
    "    {\n",
    "        \"lattice\": {\"dim\": {\"x\": 8, \"y\": 8}, \"velocities\": {\"x\": 4, \"y\": 4}},\n",
    "        \"geometry\": [{\"x\": [5, 6], \"y\": [1, 2], \"boundary\": \"specular\"}],\n",
    "    },\n",
    "    {\n",
    "        \"lattice\": {\"dim\": {\"x\": 8, \"y\": 8}, \"velocities\": {\"x\": 4, \"y\": 4}},\n",
    "        \"geometry\": [\n",
    "            {\"x\": [5, 6], \"y\": [1, 2], \"boundary\": \"specular\"},\n",
    "            {\"x\": [5, 6], \"y\": [5, 6], \"boundary\": \"specular\"},\n",
    "        ],\n",
    "    },\n",
    "]\n",
    "\n",
    "dummy_logger = getLogger(\"dummy\")\n",
    "# By logging at this point we ignore the output of circuit creation\n",
    "logging.config.fileConfig(\"qiskit_qulacs_comparison_logging.conf\")\n",
    "logger = getLogger(\"qlbm\")"
   ]
  },
  {
   "cell_type": "markdown",
   "metadata": {},
   "source": [
    "## Step 2: Simulation\n",
    "\n",
    "Now that we have setup our simulations and configered logging, we can simply run the simulations by calling the `benchmark` function!\n",
    "\n",
    "> **_CAUTION:_** Running the cell below will probably take a few minutes. Each cell should be run exactly once."
   ]
  },
  {
   "cell_type": "code",
   "execution_count": null,
   "metadata": {},
   "outputs": [],
   "source": [
    "logger.info(\"Session: snapshots=True, sampling=True\")\n",
    "benchmark(lattices, NUM_STEPS, NUM_SHOTS, True, True, logger, dummy_logger)"
   ]
  },
  {
   "cell_type": "markdown",
   "metadata": {},
   "source": [
    "## Step 3: Analysis\n",
    "\n",
    "Once the simulation has concluded, the performance logs created by `qlbm` will be under `qlbm-output/qiskit-qulacs-comparison/qlbm.log`.\n",
    "The scripts below will parse this file, extract useful information, format it, and plot it for convenient analysis."
   ]
  },
  {
   "cell_type": "code",
   "execution_count": null,
   "metadata": {},
   "outputs": [],
   "source": [
    "log_file = \"qlbm-output/qiskit-qulacs-comparison/qlbm.log\"\n",
    "with open(log_file, \"r\") as f:\n",
    "    lines = f.readlines()"
   ]
  },
  {
   "cell_type": "code",
   "execution_count": null,
   "metadata": {},
   "outputs": [],
   "source": [
    "combination_lines_indices = [\n",
    "    c for c, line in enumerate(lines) if \"Combination #\" in line\n",
    "]\n",
    "\n",
    "sections = []\n",
    "for c in range(len((combination_lines_indices))):\n",
    "    if c < len(combination_lines_indices) - 1:\n",
    "        sections.append(\n",
    "            lines[combination_lines_indices[c] : combination_lines_indices[c + 1]]\n",
    "        )\n",
    "    else:\n",
    "        sections.append(lines[combination_lines_indices[c] :])\n",
    "\n",
    "records = []\n",
    "for section in sections:\n",
    "    sec_info = section[1].split(\"INFO: \")[-1].rstrip().split(\", \")\n",
    "    time_elapsed_ns = section[-1].split(\"INFO: \")[-1].rstrip().split()[-2]\n",
    "    step_simulation_line_indices = [\n",
    "        c for c, line in enumerate(section) if \"Main circuit for step\" in line\n",
    "    ]\n",
    "    qulacs_start = [c for c, line in enumerate(section) if \"Executing QULACS...\" in line][\n",
    "        0\n",
    "    ]\n",
    "    total_duration = 0\n",
    "    for c, sl in enumerate(step_simulation_line_indices):\n",
    "        if sl > qulacs_start and step_simulation_line_indices[c - 1] < qulacs_start:\n",
    "            total_duration = 0\n",
    "        step_number = section[sl].split(\"for step \")[-1].split()[0]\n",
    "        props = section[sl].split(\"INFO: \")[-1].rstrip().split(\", \")[1:]\n",
    "        duration = section[sl + 1].split()[-2]\n",
    "        total_duration += int(duration)\n",
    "\n",
    "        records.append(\n",
    "            {\n",
    "                \"Lattice\": sec_info[0].split(\"=\")[-1].split(\"/\")[-1].split(\".\")[0],\n",
    "                \"Dimensions\": sec_info[0].split(\"=\")[-1].split(\"-\")[1],\n",
    "                \"Obstacles\": int(sec_info[0].split(\"=\")[-1].split(\"-\")[-2]),\n",
    "                \"Circuit Qubits\": int(sec_info[1].split(\"=\")[-1]),\n",
    "                \"Step\": int(step_number),\n",
    "                \"Depth\": int(props[1]),\n",
    "                \"Gates\": int(props[-1][:-1]),\n",
    "                \"Duration (ns)\": int(duration),\n",
    "                \"Cumulative Duration (ns)\": int(total_duration),\n",
    "                \"Snapshots\": True,\n",
    "                \"Platform\": \"QULACS\"\n",
    "                if sl > qulacs_start\n",
    "                else \"QISKIT\",  # Qiskit is first in this simulation\n",
    "            }\n",
    "        )\n",
    "\n",
    "df = pd.DataFrame.from_records(records)\n",
    "df"
   ]
  },
  {
   "cell_type": "code",
   "execution_count": null,
   "metadata": {},
   "outputs": [],
   "source": [
    "df[\"Duration (s)\"] = df[\"Duration (ns)\"] / 1e9\n",
    "df[\"Cumulative Duration (s)\"] = df[\"Cumulative Duration (ns)\"] / 1e9"
   ]
  },
  {
   "cell_type": "code",
   "execution_count": null,
   "metadata": {},
   "outputs": [],
   "source": [
    "pdf = df[df[\"Obstacles\"] < 2]\n",
    "sns.lineplot(\n",
    "    pdf,\n",
    "    x=\"Step\",\n",
    "    y=\"Cumulative Duration (s)\",\n",
    "    hue=\"Obstacles\",\n",
    "    style=\"Platform\",\n",
    "    markers=True,\n",
    ")\n",
    "\n",
    "plt.xticks(pd.unique(pdf[\"Step\"]))"
   ]
  },
  {
   "cell_type": "code",
   "execution_count": null,
   "metadata": {},
   "outputs": [],
   "source": []
  }
 ],
 "metadata": {
  "kernelspec": {
   "display_name": "Python 3 (ipykernel)",
   "language": "python",
   "name": "python3"
  },
  "language_info": {
   "codemirror_mode": {
    "name": "ipython",
    "version": 3
   },
   "file_extension": ".py",
   "mimetype": "text/x-python",
   "name": "python",
   "nbconvert_exporter": "python",
   "pygments_lexer": "ipython3",
   "version": "3.12.5"
  }
 },
 "nbformat": 4,
 "nbformat_minor": 4
}
