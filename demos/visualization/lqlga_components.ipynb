{
 "cells": [
  {
   "cell_type": "code",
   "execution_count": null,
   "id": "ddea9d2e",
   "metadata": {},
   "outputs": [],
   "source": [
    "from qlbm.components.lqlga.collision import GenericLQLGACollisionOperator\n",
    "from qlbm.components.lqlga.initial import LQGLAInitialConditions\n",
    "from qlbm.components.lqlga.lqlga import LQLGA\n",
    "from qlbm.components.lqlga.streaming import LQLGAStreamingOperator\n",
    "from qlbm.lattice.lattices.lqlga_lattice import LQLGALattice"
   ]
  },
  {
   "cell_type": "code",
   "execution_count": null,
   "id": "311e7286",
   "metadata": {},
   "outputs": [],
   "source": [
    "lattice = LQLGALattice(\n",
    "    {\n",
    "        \"lattice\": {\n",
    "            \"dim\": {\"x\": 8},\n",
    "            \"velocities\": \"d1q3\",\n",
    "        },\n",
    "        \"geometry\": [{\"shape\": \"cuboid\", \"x\": [3, 5], \"boundary\": \"bounceback\"}],\n",
    "    },\n",
    ")"
   ]
  },
  {
   "cell_type": "code",
   "execution_count": null,
   "id": "0f787330",
   "metadata": {},
   "outputs": [],
   "source": [
    "LQGLAInitialConditions(lattice, [(tuple([2]), (False, False))]).draw(\"mpl\")"
   ]
  },
  {
   "cell_type": "code",
   "execution_count": null,
   "id": "a8967c83",
   "metadata": {},
   "outputs": [],
   "source": [
    "LQLGAStreamingOperator(lattice).draw(\"mpl\")"
   ]
  },
  {
   "cell_type": "code",
   "execution_count": null,
   "id": "c32cccb3",
   "metadata": {},
   "outputs": [],
   "source": [
    "GenericLQLGACollisionOperator(lattice).draw(\"mpl\")"
   ]
  },
  {
   "cell_type": "code",
   "execution_count": null,
   "id": "fcc13530",
   "metadata": {},
   "outputs": [],
   "source": [
    "LQLGA(lattice).circuit.draw(\"mpl\")"
   ]
  },
  {
   "cell_type": "code",
   "execution_count": null,
   "id": "d31eb2aa",
   "metadata": {},
   "outputs": [],
   "source": []
  }
 ],
 "metadata": {
  "kernelspec": {
   "display_name": "Python 3 (ipykernel)",
   "language": "python",
   "name": "python3"
  },
  "language_info": {
   "codemirror_mode": {
    "name": "ipython",
    "version": 3
   },
   "file_extension": ".py",
   "mimetype": "text/x-python",
   "name": "python",
   "nbconvert_exporter": "python",
   "pygments_lexer": "ipython3",
   "version": "3.12.10"
  }
 },
 "nbformat": 4,
 "nbformat_minor": 5
}
