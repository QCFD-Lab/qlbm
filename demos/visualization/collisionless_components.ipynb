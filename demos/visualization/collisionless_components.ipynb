{
 "cells": [
  {
   "cell_type": "code",
   "execution_count": 2,
   "id": "ca7a55e2-5729-4a0c-b1bc-19ace7be8100",
   "metadata": {},
   "outputs": [],
   "source": [
    "# Import the required packages from the qlbm framework\n",
    "from qlbm.components import (\n",
    "    CQLBM,\n",
    "    CollisionlessStreamingOperator,\n",
    "    ControlledIncrementer,\n",
    "    SpecularReflectionOperator,\n",
    "    SpeedSensitivePhaseShift,\n",
    ")\n",
    "from qlbm.lattice import CollisionlessLattice\n",
    "from qlbm.tools.utils import create_directory_and_parents"
   ]
  },
  {
   "cell_type": "code",
   "execution_count": 3,
   "id": "8e4093f6-9547-4261-a011-d8210307e83c",
   "metadata": {},
   "outputs": [],
   "source": [
    "# Create directory to which the output files will be stored\n",
    "root_directory = \"qlbm-output/visualization_components\"\n",
    "create_directory_and_parents(root_directory)"
   ]
  },
  {
   "cell_type": "code",
   "execution_count": 4,
   "id": "f04fc215-d47d-48a9-ad83-924993b13a87",
   "metadata": {},
   "outputs": [],
   "source": [
    "# Define an example which uses 4 velocity qubits and the qubits with speed 2 will stream\n",
    "speed_shift_primitive: SpeedSensitivePhaseShift = SpeedSensitivePhaseShift(\n",
    "    4, 2, True\n",
    ")"
   ]
  },
  {
   "cell_type": "code",
   "execution_count": 5,
   "id": "26db5071-568f-4b87-b515-f35a92bd989b",
   "metadata": {},
   "outputs": [
    {
     "data": {
      "text/html": [
       "<pre style=\"word-wrap: normal;white-space: pre;background: #fff0;line-height: 1.1;font-family: &quot;Courier New&quot;,Courier,monospace\">     ┌────────┐\n",
       "q_0: ┤ P(π/4) ├\n",
       "     ├────────┤\n",
       "q_1: ┤ P(π/2) ├\n",
       "     └┬──────┬┘\n",
       "q_2: ─┤ P(π) ├─\n",
       "      ├──────┤ \n",
       "q_3: ─┤ P(0) ├─\n",
       "      └──────┘ </pre>"
      ],
      "text/plain": [
       "     ┌────────┐\n",
       "q_0: ┤ P(π/4) ├\n",
       "     ├────────┤\n",
       "q_1: ┤ P(π/2) ├\n",
       "     └┬──────┬┘\n",
       "q_2: ─┤ P(π) ├─\n",
       "      ├──────┤ \n",
       "q_3: ─┤ P(0) ├─\n",
       "      └──────┘ "
      ]
     },
     "execution_count": 5,
     "metadata": {},
     "output_type": "execute_result"
    }
   ],
   "source": [
    "# You can draw circuits in Qiskit's ASCII art format\n",
    "speed_shift_primitive.draw(\"text\", f\"{root_directory}/phase_shift.txt\")"
   ]
  },
  {
   "cell_type": "code",
   "execution_count": 6,
   "id": "3c655fee-c889-439b-be7b-2a39c3c2e268",
   "metadata": {},
   "outputs": [
    {
     "data": {
      "image/png": "[encoded data removed]",
      "text/plain": [
       "<Figure size 203.885x367.889 with 1 Axes>"
      ]
     },
     "execution_count": 6,
     "metadata": {},
     "output_type": "execute_result"
    }
   ],
   "source": [
    "# Also through Qiskit's Matplotlib interface\n",
    "speed_shift_primitive.draw(\"mpl\", f\"{root_directory}/phase_shift.pdf\")"
   ]
  },
  {
   "cell_type": "code",
   "execution_count": 7,
   "id": "47515f0e-e9e2-4055-a3d4-fed168fa1320",
   "metadata": {},
   "outputs": [
    {
     "data": {
      "text/plain": [
       "'\\\\documentclass[border=2px]{standalone}\\n\\n\\\\usepackage[braket, qm]{qcircuit}\\n\\\\usepackage{graphicx}\\n\\n\\\\begin{document}\\n\\\\scalebox{1.0}{\\n\\\\Qcircuit @C=1.0em @R=0.2em @!R { \\\\\\\\\\n\\t \\t\\\\nghost{{q}_{0} :  } & \\\\lstick{{q}_{0} :  } & \\\\gate{\\\\mathrm{P}\\\\,(\\\\mathrm{\\\\frac{\\\\pi}{4}})} & \\\\qw & \\\\qw\\\\\\\\\\n\\t \\t\\\\nghost{{q}_{1} :  } & \\\\lstick{{q}_{1} :  } & \\\\gate{\\\\mathrm{P}\\\\,(\\\\mathrm{\\\\frac{\\\\pi}{2}})} & \\\\qw & \\\\qw\\\\\\\\\\n\\t \\t\\\\nghost{{q}_{2} :  } & \\\\lstick{{q}_{2} :  } & \\\\gate{\\\\mathrm{P}\\\\,(\\\\mathrm{\\\\pi})} & \\\\qw & \\\\qw\\\\\\\\\\n\\t \\t\\\\nghost{{q}_{3} :  } & \\\\lstick{{q}_{3} :  } & \\\\gate{\\\\mathrm{P}\\\\,(\\\\mathrm{0})} & \\\\qw & \\\\qw\\\\\\\\\\n\\\\\\\\ }}\\n\\\\end{document}'"
      ]
     },
     "execution_count": 7,
     "metadata": {},
     "output_type": "execute_result"
    }
   ],
   "source": [
    "# Can also export directly to Latex source\n",
    "speed_shift_primitive.draw(\"latex_source\", f\"{root_directory}/phase_shift.tex\")"
   ]
  },
  {
   "cell_type": "code",
   "execution_count": 8,
   "id": "ad38ddb2-56fe-435d-b2db-17ed4a11efef",
   "metadata": {},
   "outputs": [
    {
     "ename": "FileNotFoundError",
     "evalue": "[Errno 2] No such file or directory: 'demos/lattices/2d_8x8_1_obstacle.json'",
     "output_type": "error",
     "traceback": [
      "\u001b[0;31m---------------------------------------------------------------------------\u001b[0m",
      "\u001b[0;31mFileNotFoundError\u001b[0m                         Traceback (most recent call last)",
      "Cell \u001b[0;32mIn[8], line 2\u001b[0m\n\u001b[1;32m      1\u001b[0m \u001b[38;5;66;03m# Now import a lattice for which we build operators and algorithms\u001b[39;00m\n\u001b[0;32m----> 2\u001b[0m example_lattice \u001b[38;5;241m=\u001b[39m \u001b[43mCollisionlessLattice\u001b[49m\u001b[43m(\u001b[49m\u001b[38;5;124;43m\"\u001b[39;49m\u001b[38;5;124;43mdemos/lattices/2d_8x8_1_obstacle.json\u001b[39;49m\u001b[38;5;124;43m\"\u001b[39;49m\u001b[43m)\u001b[49m\n",
      "File \u001b[0;32m/opt/anaconda3/lib/python3.11/site-packages/qlbm/lattice/lattices/collisionless_lattice.py:29\u001b[0m, in \u001b[0;36mCollisionlessLattice.__init__\u001b[0;34m(self, lattice_data, logger)\u001b[0m\n\u001b[1;32m     23\u001b[0m \u001b[38;5;28;01mdef\u001b[39;00m \u001b[38;5;21m__init__\u001b[39m(\n\u001b[1;32m     24\u001b[0m     \u001b[38;5;28mself\u001b[39m,\n\u001b[1;32m     25\u001b[0m     lattice_data: \u001b[38;5;28mstr\u001b[39m \u001b[38;5;241m|\u001b[39m Dict,  \u001b[38;5;66;03m# type: ignore\u001b[39;00m\n\u001b[1;32m     26\u001b[0m     logger: Logger \u001b[38;5;241m=\u001b[39m getLogger(\u001b[38;5;124m\"\u001b[39m\u001b[38;5;124mqlbm\u001b[39m\u001b[38;5;124m\"\u001b[39m),\n\u001b[1;32m     27\u001b[0m ) \u001b[38;5;241m-\u001b[39m\u001b[38;5;241m>\u001b[39m \u001b[38;5;28;01mNone\u001b[39;00m:\n\u001b[1;32m     28\u001b[0m     \u001b[38;5;28msuper\u001b[39m()\u001b[38;5;241m.\u001b[39m\u001b[38;5;21m__init__\u001b[39m(lattice_data, logger)\n\u001b[0;32m---> 29\u001b[0m     dimensions, velocities, blocks \u001b[38;5;241m=\u001b[39m \u001b[38;5;28;43mself\u001b[39;49m\u001b[38;5;241;43m.\u001b[39;49m\u001b[43mparse_input_data\u001b[49m\u001b[43m(\u001b[49m\u001b[43mlattice_data\u001b[49m\u001b[43m)\u001b[49m  \u001b[38;5;66;03m# type: ignore\u001b[39;00m\n\u001b[1;32m     31\u001b[0m     \u001b[38;5;28mself\u001b[39m\u001b[38;5;241m.\u001b[39mnum_dimensions \u001b[38;5;241m=\u001b[39m \u001b[38;5;28mlen\u001b[39m(dimensions)\n\u001b[1;32m     32\u001b[0m     \u001b[38;5;28mself\u001b[39m\u001b[38;5;241m.\u001b[39mnum_gridpoints \u001b[38;5;241m=\u001b[39m dimensions\n",
      "File \u001b[0;32m/opt/anaconda3/lib/python3.11/site-packages/qlbm/lattice/lattices/base.py:43\u001b[0m, in \u001b[0;36mLattice.parse_input_data\u001b[0;34m(self, lattice_data)\u001b[0m\n\u001b[1;32m     38\u001b[0m \u001b[38;5;28;01mdef\u001b[39;00m \u001b[38;5;21mparse_input_data\u001b[39m(\n\u001b[1;32m     39\u001b[0m     \u001b[38;5;28mself\u001b[39m,\n\u001b[1;32m     40\u001b[0m     lattice_data: \u001b[38;5;28mstr\u001b[39m \u001b[38;5;241m|\u001b[39m Dict,  \u001b[38;5;66;03m# type: ignore\u001b[39;00m\n\u001b[1;32m     41\u001b[0m ) \u001b[38;5;241m-\u001b[39m\u001b[38;5;241m>\u001b[39m Tuple[List[\u001b[38;5;28mint\u001b[39m], List[\u001b[38;5;28mint\u001b[39m], Dict[\u001b[38;5;28mstr\u001b[39m, List[Block]]]:\n\u001b[1;32m     42\u001b[0m     \u001b[38;5;28;01mif\u001b[39;00m \u001b[38;5;28misinstance\u001b[39m(lattice_data, \u001b[38;5;28mstr\u001b[39m):\n\u001b[0;32m---> 43\u001b[0m         \u001b[38;5;28;01mwith\u001b[39;00m \u001b[38;5;28;43mopen\u001b[39;49m\u001b[43m(\u001b[49m\u001b[43mlattice_data\u001b[49m\u001b[43m,\u001b[49m\u001b[43m \u001b[49m\u001b[38;5;124;43m\"\u001b[39;49m\u001b[38;5;124;43mr\u001b[39;49m\u001b[38;5;124;43m\"\u001b[39;49m\u001b[43m)\u001b[49m \u001b[38;5;28;01mas\u001b[39;00m f:\n\u001b[1;32m     44\u001b[0m             lattice_dict \u001b[38;5;241m=\u001b[39m json\u001b[38;5;241m.\u001b[39mload(f)\n\u001b[1;32m     45\u001b[0m             \u001b[38;5;28;01mreturn\u001b[39;00m \u001b[38;5;28mself\u001b[39m\u001b[38;5;241m.\u001b[39m__parse_input_dict(lattice_dict)  \u001b[38;5;66;03m# type: ignore\u001b[39;00m\n",
      "\u001b[0;31mFileNotFoundError\u001b[0m: [Errno 2] No such file or directory: 'demos/lattices/2d_8x8_1_obstacle.json'"
     ]
    }
   ],
   "source": [
    "# Now import a lattice for which we build operators and algorithms\n",
    "example_lattice = CollisionlessLattice(\"demos/lattices/2d_8x8_1_obstacle.json\")"
   ]
  },
  {
   "cell_type": "code",
   "execution_count": null,
   "id": "37d61b3f-bfbf-45aa-a6ae-d529ebdaacc0",
   "metadata": {},
   "outputs": [],
   "source": [
    "# All primitives can be drawn to the same interface\n",
    "ControlledIncrementer(example_lattice, reflection=False).draw(\n",
    "    \"mpl\", f\"{root_directory}/controlled_incrementer.pdf\"\n",
    ")"
   ]
  },
  {
   "cell_type": "code",
   "execution_count": null,
   "id": "cd75e3c7-0a33-4719-b66a-f6de081fca74",
   "metadata": {},
   "outputs": [],
   "source": [
    "# All operators can be drawn the same way\n",
    "CollisionlessStreamingOperator(example_lattice, [0, 2, 3]).draw(\n",
    "    \"mpl\", f\"{root_directory}/streaming.pdf\"\n",
    ")"
   ]
  },
  {
   "cell_type": "code",
   "execution_count": null,
   "id": "3cf55506-d0b0-4f26-832d-13e101ba725a",
   "metadata": {},
   "outputs": [],
   "source": [
    "SpecularReflectionOperator(\n",
    "    example_lattice, example_lattice.blocks[\"bounceback\"]\n",
    ").draw(\"mpl\", f\"{root_directory}/specular_reflection.pdf\")"
   ]
  },
  {
   "cell_type": "code",
   "execution_count": null,
   "id": "af382a1b-0b4f-433b-b782-9a051caeea72",
   "metadata": {},
   "outputs": [],
   "source": [
    "# As can entire algorithms\n",
    "CQLBM(example_lattice).draw(\"mpl\", f\"{root_directory}/collisionless_lbm.pdf\")"
   ]
  },
  {
   "cell_type": "code",
   "execution_count": null,
   "id": "602edcbd-0257-45ce-a578-53def319d6ef",
   "metadata": {},
   "outputs": [],
   "source": []
  },
  {
   "cell_type": "code",
   "execution_count": null,
   "id": "b5db7f15-c83e-44fd-9a89-e4e64fd8e743",
   "metadata": {},
   "outputs": [],
   "source": []
  },
  {
   "cell_type": "code",
   "execution_count": null,
   "id": "b7ea6d71-9eb6-4e6a-bf3a-efe9f709680e",
   "metadata": {},
   "outputs": [],
   "source": []
  },
  {
   "cell_type": "code",
   "execution_count": null,
   "id": "91ce48e8-807c-4c6e-abbe-207dfdb2d49e",
   "metadata": {},
   "outputs": [],
   "source": []
  },
  {
   "cell_type": "code",
   "execution_count": null,
   "id": "f406966f-fb21-432b-97df-faf8e59adcb6",
   "metadata": {},
   "outputs": [],
   "source": []
  },
  {
   "cell_type": "code",
   "execution_count": null,
   "id": "ef6dc22f-ac7a-45ac-a705-5d325b600932",
   "metadata": {},
   "outputs": [],
   "source": []
  },
  {
   "cell_type": "code",
   "execution_count": null,
   "id": "4232809c-ebf6-4342-a663-fdc82a1146a2",
   "metadata": {},
   "outputs": [],
   "source": []
  }
 ],
 "metadata": {
  "kernelspec": {
   "display_name": "Python 3 (ipykernel)",
   "language": "python",
   "name": "python3"
  },
  "language_info": {
   "codemirror_mode": {
    "name": "ipython",
    "version": 3
   },
   "file_extension": ".py",
   "mimetype": "text/x-python",
   "name": "python",
   "nbconvert_exporter": "python",
   "pygments_lexer": "ipython3",
   "version": "3.11.8"
  }
 },
 "nbformat": 4,
 "nbformat_minor": 5
}
