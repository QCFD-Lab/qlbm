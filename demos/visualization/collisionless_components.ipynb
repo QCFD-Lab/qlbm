{
 "cells": [
  {
   "cell_type": "code",
   "execution_count": null,
   "id": "ca7a55e2-5729-4a0c-b1bc-19ace7be8100",
   "metadata": {},
   "outputs": [],
   "source": [
    "# Import the required packages from the qlbm framework\n",
    "from qlbm.components import (\n",
    "    CQLBM,\n",
    "    CollisionlessStreamingOperator,\n",
    "    ControlledIncrementer,\n",
    "    SpecularReflectionOperator,\n",
    "    SpeedSensitivePhaseShift,\n",
    ")\n",
    "from qlbm.lattice import CollisionlessLattice\n",
    "from qlbm.tools.utils import create_directory_and_parents"
   ]
  },
  {
   "cell_type": "code",
   "execution_count": null,
   "id": "8e4093f6-9547-4261-a011-d8210307e83c",
   "metadata": {},
   "outputs": [],
   "source": [
    "# Create directory to which the output files will be stored\n",
    "root_directory = \"qlbm-output/visualization_components\"\n",
    "create_directory_and_parents(root_directory)"
   ]
  },
  {
   "cell_type": "code",
   "execution_count": null,
   "id": "f04fc215-d47d-48a9-ad83-924993b13a87",
   "metadata": {},
   "outputs": [],
   "source": [
    "# Define an example which uses 4 velocity qubits and the qubits with speed 2 will stream\n",
    "speed_shift_primitive: SpeedSensitivePhaseShift = SpeedSensitivePhaseShift(\n",
    "    4, 2, True\n",
    ")"
   ]
  },
  {
   "cell_type": "code",
   "execution_count": null,
   "id": "26db5071-568f-4b87-b515-f35a92bd989b",
   "metadata": {},
   "outputs": [],
   "source": [
    "# You can draw circuits in Qiskit's ASCII art format\n",
    "speed_shift_primitive.draw(\"text\", f\"{root_directory}/phase_shift.txt\")"
   ]
  },
  {
   "cell_type": "code",
   "execution_count": null,
   "id": "3c655fee-c889-439b-be7b-2a39c3c2e268",
   "metadata": {},
   "outputs": [],
   "source": [
    "# Also through Qiskit's Matplotlib interface\n",
    "speed_shift_primitive.draw(\"mpl\", f\"{root_directory}/phase_shift.pdf\")"
   ]
  },
  {
   "cell_type": "code",
   "execution_count": null,
   "id": "47515f0e-e9e2-4055-a3d4-fed168fa1320",
   "metadata": {},
   "outputs": [],
   "source": [
    "# Can also export directly to Latex source\n",
    "speed_shift_primitive.draw(\"latex_source\", f\"{root_directory}/phase_shift.tex\")"
   ]
  },
  {
   "cell_type": "code",
   "execution_count": null,
   "id": "ad38ddb2-56fe-435d-b2db-17ed4a11efef",
   "metadata": {},
   "outputs": [],
   "source": [
    "# Now import a lattice for which we build operators and algorithms\n",
    "example_lattice = CollisionlessLattice(\"demos/lattices/2d_8x8_1_obstacle.json\")"
   ]
  },
  {
   "cell_type": "code",
   "execution_count": null,
   "id": "37d61b3f-bfbf-45aa-a6ae-d529ebdaacc0",
   "metadata": {},
   "outputs": [],
   "source": [
    "# All primitives can be drawn to the same interface\n",
    "ControlledIncrementer(example_lattice, reflection=False).draw(\n",
    "    \"mpl\", f\"{root_directory}/controlled_incrementer.pdf\"\n",
    ")"
   ]
  },
  {
   "cell_type": "code",
   "execution_count": null,
   "id": "cd75e3c7-0a33-4719-b66a-f6de081fca74",
   "metadata": {},
   "outputs": [],
   "source": [
    "# All operators can be drawn the same way\n",
    "CollisionlessStreamingOperator(example_lattice, [0, 2, 3]).draw(\n",
    "    \"mpl\", f\"{root_directory}/streaming.pdf\"\n",
    ")"
   ]
  },
  {
   "cell_type": "code",
   "execution_count": null,
   "id": "3cf55506-d0b0-4f26-832d-13e101ba725a",
   "metadata": {},
   "outputs": [],
   "source": [
    "SpecularReflectionOperator(\n",
    "    example_lattice, example_lattice.blocks[\"bounceback\"]\n",
    ").draw(\"mpl\", f\"{root_directory}/specular_reflection.pdf\")"
   ]
  },
  {
   "cell_type": "code",
   "execution_count": null,
   "id": "af382a1b-0b4f-433b-b782-9a051caeea72",
   "metadata": {},
   "outputs": [],
   "source": [
    "# As can entire algorithms\n",
    "CQLBM(example_lattice).draw(\"mpl\", f\"{root_directory}/collisionless_lbm.pdf\")"
   ]
  },
  {
   "cell_type": "code",
   "execution_count": null,
   "id": "602edcbd-0257-45ce-a578-53def319d6ef",
   "metadata": {},
   "outputs": [],
   "source": []
  },
  {
   "cell_type": "code",
   "execution_count": null,
   "id": "b5db7f15-c83e-44fd-9a89-e4e64fd8e743",
   "metadata": {},
   "outputs": [],
   "source": []
  },
  {
   "cell_type": "code",
   "execution_count": null,
   "id": "b7ea6d71-9eb6-4e6a-bf3a-efe9f709680e",
   "metadata": {},
   "outputs": [],
   "source": []
  },
  {
   "cell_type": "code",
   "execution_count": null,
   "id": "91ce48e8-807c-4c6e-abbe-207dfdb2d49e",
   "metadata": {},
   "outputs": [],
   "source": []
  },
  {
   "cell_type": "code",
   "execution_count": null,
   "id": "f406966f-fb21-432b-97df-faf8e59adcb6",
   "metadata": {},
   "outputs": [],
   "source": []
  },
  {
   "cell_type": "code",
   "execution_count": null,
   "id": "ef6dc22f-ac7a-45ac-a705-5d325b600932",
   "metadata": {},
   "outputs": [],
   "source": []
  },
  {
   "cell_type": "code",
   "execution_count": null,
   "id": "4232809c-ebf6-4342-a663-fdc82a1146a2",
   "metadata": {},
   "outputs": [],
   "source": []
  }
 ],
 "metadata": {
  "kernelspec": {
   "display_name": "Python 3 (ipykernel)",
   "language": "python",
   "name": "python3"
  },
  "language_info": {
   "codemirror_mode": {
    "name": "ipython",
    "version": 3
   },
   "file_extension": ".py",
   "mimetype": "text/x-python",
   "name": "python",
   "nbconvert_exporter": "python",
   "pygments_lexer": "ipython3",
   "version": "3.12.5"
  }
 },
 "nbformat": 4,
 "nbformat_minor": 5
}
