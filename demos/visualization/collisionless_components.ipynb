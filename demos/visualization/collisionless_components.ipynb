{
 "cells": [
  {
   "cell_type": "markdown",
   "id": "ca7a55e2-5729-4a0c-b1bc-19ace7be8100",
   "metadata": {},
   "source": [
    "# Visualizing Collisionless QLBM circuits"
   ]
  },
  {
   "cell_type": "code",
   "execution_count": null,
   "id": "9c00c9df",
   "metadata": {},
   "outputs": [],
   "source": [
    "# Import the required packages from the qlbm framework\n",
    "from qlbm.components import (\n",
    "    CQLBM,\n",
    "    CollisionlessStreamingOperator,\n",
    "    ControlledIncrementer,\n",
    "    SpecularReflectionOperator,\n",
    "    SpeedSensitivePhaseShift,\n",
    ")\n",
    "from qlbm.lattice import CollisionlessLattice"
   ]
  },
  {
   "cell_type": "code",
   "execution_count": null,
   "id": "f04fc215-d47d-48a9-ad83-924993b13a87",
   "metadata": {},
   "outputs": [],
   "source": [
    "# Define an example which uses 4 velocity qubits and the qubits with speed 2 will stream\n",
    "speed_shift_primitive = SpeedSensitivePhaseShift(4, 2, True)"
   ]
  },
  {
   "cell_type": "code",
   "execution_count": null,
   "id": "26db5071-568f-4b87-b515-f35a92bd989b",
   "metadata": {},
   "outputs": [],
   "source": [
    "# You can draw circuits in Qiskit's ASCII art format\n",
    "speed_shift_primitive.draw(\"text\")"
   ]
  },
  {
   "cell_type": "code",
   "execution_count": null,
   "id": "3c655fee-c889-439b-be7b-2a39c3c2e268",
   "metadata": {},
   "outputs": [],
   "source": [
    "# Also through Qiskit's Matplotlib interface\n",
    "speed_shift_primitive.draw(\"mpl\")"
   ]
  },
  {
   "cell_type": "code",
   "execution_count": null,
   "id": "47515f0e-e9e2-4055-a3d4-fed168fa1320",
   "metadata": {},
   "outputs": [],
   "source": [
    "# Can also export directly to Latex source\n",
    "speed_shift_primitive.draw(\"latex_source\")"
   ]
  },
  {
   "cell_type": "code",
   "execution_count": null,
   "id": "ad38ddb2-56fe-435d-b2db-17ed4a11efef",
   "metadata": {},
   "outputs": [],
   "source": [
    "# Define a lattice based on which we can construct\n",
    "# Operators and algorithms\n",
    "example_lattice = CollisionlessLattice(\n",
    "    {\n",
    "        \"lattice\": {\"dim\": {\"x\": 8, \"y\": 8}, \"velocities\": {\"x\": 4, \"y\": 4}},\n",
    "        \"geometry\": [\n",
    "            {\"shape\": \"cuboid\", \"x\": [5, 6], \"y\": [1, 2], \"boundary\": \"specular\"}\n",
    "        ],\n",
    "    }\n",
    ")"
   ]
  },
  {
   "cell_type": "code",
   "execution_count": null,
   "id": "37d61b3f-bfbf-45aa-a6ae-d529ebdaacc0",
   "metadata": {},
   "outputs": [],
   "source": [
    "# All primitives can be drawn to the same interface\n",
    "ControlledIncrementer(example_lattice, reflection=False).draw(\"mpl\")"
   ]
  },
  {
   "cell_type": "code",
   "execution_count": null,
   "id": "cd75e3c7-0a33-4719-b66a-f6de081fca74",
   "metadata": {},
   "outputs": [],
   "source": [
    "# All operators can be drawn the same way\n",
    "CollisionlessStreamingOperator(example_lattice, [0, 2, 3]).draw(\"mpl\")"
   ]
  },
  {
   "cell_type": "code",
   "execution_count": null,
   "id": "3cf55506-d0b0-4f26-832d-13e101ba725a",
   "metadata": {},
   "outputs": [],
   "source": [
    "SpecularReflectionOperator(example_lattice, example_lattice.shapes[\"bounceback\"]).draw(\n",
    "    \"mpl\"\n",
    ")"
   ]
  },
  {
   "cell_type": "code",
   "execution_count": null,
   "id": "af382a1b-0b4f-433b-b782-9a051caeea72",
   "metadata": {},
   "outputs": [],
   "source": [
    "# As can entire algorithms\n",
    "CQLBM(example_lattice).draw(\"mpl\")"
   ]
  },
  {
   "cell_type": "code",
   "execution_count": null,
   "id": "66036f08-5fb8-4955-8192-de03b708f340",
   "metadata": {},
   "outputs": [],
   "source": []
  }
 ],
 "metadata": {
  "kernelspec": {
   "display_name": "Python 3 (ipykernel)",
   "language": "python",
   "name": "python3"
  },
  "language_info": {
   "codemirror_mode": {
    "name": "ipython",
    "version": 3
   },
   "file_extension": ".py",
   "mimetype": "text/x-python",
   "name": "python",
   "nbconvert_exporter": "python",
   "pygments_lexer": "ipython3",
   "version": "3.10.12"
  }
 },
 "nbformat": 4,
 "nbformat_minor": 5
}
