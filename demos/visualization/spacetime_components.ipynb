{
 "cells": [
  {
   "cell_type": "markdown",
   "id": "c1080a7f-b3c0-455a-ab6a-ecb1daf2f74f",
   "metadata": {},
   "source": [
    "# Visualizing Space-Time circuits"
   ]
  },
  {
   "cell_type": "code",
   "execution_count": null,
   "id": "713a5562",
   "metadata": {},
   "outputs": [],
   "source": [
    "from qlbm.components.spacetime import (\n",
    "    PointWiseSpaceTimeInitialConditions,\n",
    "    SpaceTimeCollisionOperator,\n",
    "    SpaceTimeQLBM,\n",
    "    SpaceTimeStreamingOperator,\n",
    ")\n",
    "from qlbm.lattice import SpaceTimeLattice"
   ]
  },
  {
   "cell_type": "code",
   "execution_count": null,
   "id": "08f6eed7-a8d9-48a8-8f68-708fb31191c9",
   "metadata": {},
   "outputs": [],
   "source": [
    "# This is the lattice based on which we build operators and algorithms\n",
    "example_lattice = SpaceTimeLattice(\n",
    "    1,\n",
    "    {\n",
    "        \"lattice\": {\"dim\": {\"x\": 16, \"y\": 16}, \"velocities\": {\"x\": 2, \"y\": 2}},\n",
    "        \"geometry\": [],\n",
    "    },\n",
    ")"
   ]
  },
  {
   "cell_type": "code",
   "execution_count": null,
   "id": "a883df69-6389-47b2-9909-0867a218b8c2",
   "metadata": {},
   "outputs": [],
   "source": [
    "PointWiseSpaceTimeInitialConditions(example_lattice).draw(\"mpl\")"
   ]
  },
  {
   "cell_type": "code",
   "execution_count": null,
   "id": "99a22d15",
   "metadata": {},
   "outputs": [],
   "source": [
    "SpaceTimeStreamingOperator(example_lattice, 1).draw(\"mpl\")"
   ]
  },
  {
   "cell_type": "code",
   "execution_count": null,
   "id": "292b87d1-de18-48e4-aea5-8ea2b6b08991",
   "metadata": {},
   "outputs": [],
   "source": [
    "SpaceTimeCollisionOperator(example_lattice, 1).draw(\"mpl\")"
   ]
  },
  {
   "cell_type": "code",
   "execution_count": null,
   "id": "35145dd0",
   "metadata": {},
   "outputs": [],
   "source": [
    "SpaceTimeQLBM(example_lattice).draw(\"mpl\")"
   ]
  }
 ],
 "metadata": {
  "kernelspec": {
   "display_name": "Python 3 (ipykernel)",
   "language": "python",
   "name": "python3"
  },
  "language_info": {
   "codemirror_mode": {
    "name": "ipython",
    "version": 3
   },
   "file_extension": ".py",
   "mimetype": "text/x-python",
   "name": "python",
   "nbconvert_exporter": "python",
   "pygments_lexer": "ipython3",
   "version": "3.12.5"
  }
 },
 "nbformat": 4,
 "nbformat_minor": 5
}
