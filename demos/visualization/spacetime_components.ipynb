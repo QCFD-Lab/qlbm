{
 "cells": [
  {
   "cell_type": "code",
   "execution_count": null,
   "id": "c1080a7f-b3c0-455a-ab6a-ecb1daf2f74f",
   "metadata": {},
   "outputs": [],
   "source": [
    "from qlbm.components.spacetime import (\n",
    "    SpaceTimeInitialConditions,\n",
    "    SpaceTimeQLBM,\n",
    "    SpaceTimeStreamingOperator,\n",
    ")\n",
    "from qlbm.lattice import SpaceTimeLattice\n",
    "from qlbm.tools.utils import create_directory_and_parents"
   ]
  },
  {
   "cell_type": "code",
   "execution_count": null,
   "id": "08f6eed7-a8d9-48a8-8f68-708fb31191c9",
   "metadata": {},
   "outputs": [],
   "source": [
    "# First we create the directory where we will store the results\n",
    "root_directory = \"qlbm-output/visualization_spacetime_components\"\n",
    "create_directory_and_parents(root_directory)\n",
    "\n",
    "# This is the lattice based on which we build operators and algorithms\n",
    "example_lattice = SpaceTimeLattice(1, \"lattices/2d_16x16_0_obstacle_q4.json\")\n",
    "initial_conditions = SpaceTimeInitialConditions(example_lattice)"
   ]
  },
  {
   "cell_type": "code",
   "execution_count": null,
   "id": "a883df69-6389-47b2-9909-0867a218b8c2",
   "metadata": {},
   "outputs": [],
   "source": [
    "# We can print the circuit through Qiskit's Matplotlib interface\n",
    "initial_conditions.draw(\"mpl\", f\"{root_directory}/initial_conditions.pdf\")\n",
    "\n",
    "SpaceTimeStreamingOperator(example_lattice, 1).draw(\n",
    "    \"mpl\", f\"{root_directory}/streaming_operator.pdf\"\n",
    ")\n",
    "\n",
    "SpaceTimeQLBM(example_lattice).draw(\n",
    "    \"mpl\", f\"{root_directory}/stqlbm.pdf\"\n",
    ")\n"
   ]
  },
  {
   "cell_type": "code",
   "execution_count": null,
   "id": "da6a5ae9-4de4-4338-9e57-740408b13c47",
   "metadata": {},
   "outputs": [],
   "source": []
  },
  {
   "cell_type": "code",
   "execution_count": null,
   "id": "09fed051-a5cb-41da-93b4-03b8cdbb1e3f",
   "metadata": {},
   "outputs": [],
   "source": []
  },
  {
   "cell_type": "code",
   "execution_count": null,
   "id": "0dbbe5c4-06c8-4c7b-84fa-db61f56e4504",
   "metadata": {},
   "outputs": [],
   "source": []
  }
 ],
 "metadata": {
  "kernelspec": {
   "display_name": "Python 3 (ipykernel)",
   "language": "python",
   "name": "python3"
  },
  "language_info": {
   "codemirror_mode": {
    "name": "ipython",
    "version": 3
   },
   "file_extension": ".py",
   "mimetype": "text/x-python",
   "name": "python",
   "nbconvert_exporter": "python",
   "pygments_lexer": "ipython3",
   "version": "3.11.8"
  }
 },
 "nbformat": 4,
 "nbformat_minor": 5
}
