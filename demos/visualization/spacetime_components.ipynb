{
 "cells": [
  {
   "cell_type": "code",
   "execution_count": null,
   "id": "c1080a7f-b3c0-455a-ab6a-ecb1daf2f74f",
   "metadata": {},
   "outputs": [],
   "source": [
    "%pip install qlbm matplotlib seaborn pandas"
   ]
  },
  {
   "cell_type": "code",
   "execution_count": 5,
   "id": "713a5562",
   "metadata": {},
   "outputs": [
    {
     "ename": "ImportError",
     "evalue": "cannot import name 'SpaceTimeCollisionOperator' from 'qlbm.components' (/home/calin/phd/qlbm/demos/qlbm-cpu-venv/lib64/python3.12/site-packages/qlbm/components/__init__.py)",
     "output_type": "error",
     "traceback": [
      "\u001b[0;31m---------------------------------------------------------------------------\u001b[0m",
      "\u001b[0;31mImportError\u001b[0m                               Traceback (most recent call last)",
      "Cell \u001b[0;32mIn[5], line 1\u001b[0m\n\u001b[0;32m----> 1\u001b[0m \u001b[38;5;28;01mfrom\u001b[39;00m \u001b[38;5;21;01mqlbm\u001b[39;00m\u001b[38;5;21;01m.\u001b[39;00m\u001b[38;5;21;01mcomponents\u001b[39;00m \u001b[38;5;28;01mimport\u001b[39;00m (\n\u001b[1;32m      2\u001b[0m     SpaceTimeCollisionOperator,\n\u001b[1;32m      3\u001b[0m     SpaceTimeInitialConditions,\n\u001b[1;32m      4\u001b[0m     SpaceTimeQLBM,\n\u001b[1;32m      5\u001b[0m     SpaceTimeStreamingOperator,\n\u001b[1;32m      6\u001b[0m )\n\u001b[1;32m      8\u001b[0m \u001b[38;5;28;01mfrom\u001b[39;00m \u001b[38;5;21;01mqlbm\u001b[39;00m\u001b[38;5;21;01m.\u001b[39;00m\u001b[38;5;21;01mlattice\u001b[39;00m \u001b[38;5;28;01mimport\u001b[39;00m SpaceTimeLattice\n\u001b[1;32m      9\u001b[0m \u001b[38;5;28;01mfrom\u001b[39;00m \u001b[38;5;21;01mqlbm\u001b[39;00m\u001b[38;5;21;01m.\u001b[39;00m\u001b[38;5;21;01mtools\u001b[39;00m\u001b[38;5;21;01m.\u001b[39;00m\u001b[38;5;21;01mutils\u001b[39;00m \u001b[38;5;28;01mimport\u001b[39;00m create_directory_and_parents\n",
      "\u001b[0;31mImportError\u001b[0m: cannot import name 'SpaceTimeCollisionOperator' from 'qlbm.components' (/home/calin/phd/qlbm/demos/qlbm-cpu-venv/lib64/python3.12/site-packages/qlbm/components/__init__.py)"
     ]
    }
   ],
   "source": [
    "from qlbm.components.spacetime import (\n",
    "    SpaceTimeCollisionOperator,\n",
    "    SpaceTimeInitialConditions,\n",
    "    SpaceTimeQLBM,\n",
    "    SpaceTimeStreamingOperator,\n",
    ")\n",
    "\n",
    "from qlbm.lattice import SpaceTimeLattice\n",
    "from qlbm.tools.utils import create_directory_and_parents"
   ]
  },
  {
   "cell_type": "code",
   "execution_count": null,
   "id": "08f6eed7-a8d9-48a8-8f68-708fb31191c9",
   "metadata": {},
   "outputs": [],
   "source": [
    "# First we create the directory where we will store the results\n",
    "root_directory = \"qlbm-output/visualization_spacetime_components\"\n",
    "create_directory_and_parents(root_directory)\n",
    "\n",
    "# This is the lattice based on which we build operators and algorithms\n",
    "example_lattice = SpaceTimeLattice(\n",
    "    1,\n",
    "    {\n",
    "        \"lattice\": {\"dim\": {\"x\": 16, \"y\": 16}, \"velocities\": {\"x\": 2, \"y\": 2}},\n",
    "        \"geometry\": [],\n",
    "    },\n",
    ")"
   ]
  },
  {
   "cell_type": "code",
   "execution_count": null,
   "id": "a883df69-6389-47b2-9909-0867a218b8c2",
   "metadata": {},
   "outputs": [],
   "source": [
    "SpaceTimeInitialConditions(example_lattice).draw(\"mpl\")"
   ]
  },
  {
   "cell_type": "code",
   "execution_count": null,
   "id": "99a22d15",
   "metadata": {},
   "outputs": [],
   "source": [
    "SpaceTimeStreamingOperator(example_lattice, 1).draw(\"mpl\")"
   ]
  },
  {
   "cell_type": "code",
   "execution_count": null,
   "id": "292b87d1-de18-48e4-aea5-8ea2b6b08991",
   "metadata": {},
   "outputs": [],
   "source": [
    "SpaceTimeCollisionOperator(example_lattice, 1).draw(\"mpl\")"
   ]
  },
  {
   "cell_type": "code",
   "execution_count": null,
   "id": "35145dd0",
   "metadata": {},
   "outputs": [],
   "source": [
    "SpaceTimeQLBM(example_lattice).draw(\"mpl\")"
   ]
  }
 ],
 "metadata": {
  "kernelspec": {
   "display_name": "Python 3 (ipykernel)",
   "language": "python",
   "name": "python3"
  },
  "language_info": {
   "codemirror_mode": {
    "name": "ipython",
    "version": 3
   },
   "file_extension": ".py",
   "mimetype": "text/x-python",
   "name": "python",
   "nbconvert_exporter": "python",
   "pygments_lexer": "ipython3",
   "version": "3.12.5"
  }
 },
 "nbformat": 4,
 "nbformat_minor": 5
}
