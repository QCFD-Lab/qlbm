{
 "cells": [
  {
   "cell_type": "markdown",
   "metadata": {},
   "source": [
    "# Visualizing Geometry"
   ]
  },
  {
   "cell_type": "code",
   "execution_count": null,
   "metadata": {},
   "outputs": [],
   "source": [
    "%matplotlib notebook"
   ]
  },
  {
   "cell_type": "code",
   "execution_count": null,
   "metadata": {},
   "outputs": [],
   "source": [
    "from os import listdir\n",
    "\n",
    "import pyvista as pv\n",
    "from pyvista import themes\n",
    "\n",
    "from qlbm.infra import CollisionlessResult\n",
    "from qlbm.lattice import CollisionlessLattice\n",
    "from qlbm.tools.utils import create_directory_and_parents\n",
    "\n",
    "pv.set_plot_theme(themes.ParaViewTheme())"
   ]
  },
  {
   "cell_type": "code",
   "execution_count": null,
   "metadata": {},
   "outputs": [],
   "source": [
    "lattice_2d = CollisionlessLattice(\n",
    "    {\n",
    "        \"lattice\": {\n",
    "            \"dim\": {\"x\": 32, \"y\": 32},\n",
    "            \"velocities\": {\"x\": 4, \"y\": 4},\n",
    "        },\n",
    "        \"geometry\": [\n",
    "            {\"shape\": \"cuboid\", \"x\": [18, 19], \"y\": [7, 14], \"boundary\": \"specular\"},\n",
    "            {\"shape\": \"cuboid\", \"x\": [18, 19], \"y\": [19, 26], \"boundary\": \"specular\"},\n",
    "            {\"shape\": \"cuboid\", \"x\": [26, 27], \"y\": [19, 26], \"boundary\": \"specular\"},\n",
    "            {\"shape\": \"cuboid\", \"x\": [26, 27], \"y\": [7, 14], \"boundary\": \"specular\"},\n",
    "            {\"shape\": \"cuboid\", \"x\": [20, 25], \"y\": [4, 5], \"boundary\": \"specular\"},\n",
    "            {\"shape\": \"cuboid\", \"x\": [20, 25], \"y\": [16, 17], \"boundary\": \"specular\"},\n",
    "            {\"shape\": \"cuboid\", \"x\": [20, 25], \"y\": [28, 29], \"boundary\": \"specular\"},\n",
    "        ],\n",
    "    }\n",
    ")\n",
    "lattice_3d = CollisionlessLattice(\n",
    "    {\n",
    "        \"lattice\": {\n",
    "            \"dim\": {\"x\": 16, \"y\": 128, \"z\": 16},\n",
    "            \"velocities\": {\"x\": 4, \"y\": 4, \"z\": 4},\n",
    "        },\n",
    "        \"geometry\": [\n",
    "            {\n",
    "                \"shape\": \"cuboid\",\n",
    "                \"x\": [10, 13],\n",
    "                \"y\": [6, 88],\n",
    "                \"z\": [10, 13],\n",
    "                \"boundary\": \"specular\",\n",
    "            }\n",
    "        ],\n",
    "    }\n",
    ")"
   ]
  },
  {
   "cell_type": "code",
   "execution_count": null,
   "metadata": {},
   "outputs": [],
   "source": [
    "root_directory_2d = \"qlbm-output/visualization-components-2d\"\n",
    "root_directory_3d = \"qlbm-output/visualization-components-3d\"\n",
    "create_directory_and_parents(root_directory_2d)\n",
    "create_directory_and_parents(root_directory_3d)"
   ]
  },
  {
   "cell_type": "code",
   "execution_count": null,
   "metadata": {},
   "outputs": [],
   "source": [
    "# Will output seven 2D stl files under `qlbm-output/visualization-components-2d/paraview`\n",
    "CollisionlessResult(lattice_2d, root_directory_2d).visualize_geometry()"
   ]
  },
  {
   "cell_type": "code",
   "execution_count": null,
   "metadata": {},
   "outputs": [],
   "source": [
    "# Will output one 3D stl files under `qlbm-output/visualization-components-3d/paraview`\n",
    "CollisionlessResult(lattice_3d, root_directory_3d).visualize_geometry()"
   ]
  },
  {
   "cell_type": "code",
   "execution_count": null,
   "metadata": {},
   "outputs": [],
   "source": [
    "pv.read(\n",
    "    [\n",
    "        f\"{root_directory_2d}/paraview/{fname}\"\n",
    "        for fname in listdir(f\"{root_directory_2d}/paraview\")\n",
    "    ]\n",
    ").plot(cpos=\"xy\", show_scalar_bar=True, jupyter_backend=\"static\")"
   ]
  },
  {
   "cell_type": "code",
   "execution_count": null,
   "metadata": {},
   "outputs": [],
   "source": [
    "pv.read(\n",
    "    [\n",
    "        f\"{root_directory_3d}/paraview/{fname}\"\n",
    "        for fname in listdir(f\"{root_directory_3d}/paraview\")\n",
    "    ]\n",
    ").plot(show_scalar_bar=True, jupyter_backend=\"static\")"
   ]
  }
 ],
 "metadata": {
  "kernelspec": {
   "display_name": "Python 3 (ipykernel)",
   "language": "python",
   "name": "python3"
  },
  "language_info": {
   "codemirror_mode": {
    "name": "ipython",
    "version": 3
   },
   "file_extension": ".py",
   "mimetype": "text/x-python",
   "name": "python",
   "nbconvert_exporter": "python",
   "pygments_lexer": "ipython3",
   "version": "3.10.12"
  }
 },
 "nbformat": 4,
 "nbformat_minor": 4
}
