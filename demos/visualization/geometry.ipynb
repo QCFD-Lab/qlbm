{
 "cells": [
  {
   "cell_type": "code",
   "execution_count": null,
   "metadata": {},
   "outputs": [],
   "source": [
    "%pip install qlbm matplotlib seaborn pandas"
   ]
  },
  {
   "cell_type": "code",
   "execution_count": null,
   "metadata": {},
   "outputs": [],
   "source": [
    "from qlbm.infra import CollisionlessResult\n",
    "from qlbm.lattice import CollisionlessLattice\n",
    "from qlbm.tools.utils import create_directory_and_parents"
   ]
  },
  {
   "cell_type": "code",
   "execution_count": null,
   "metadata": {},
   "outputs": [],
   "source": [
    "lattice_2d = CollisionlessLattice(\n",
    "    {\n",
    "        \"lattice\": {\"dim\": {\"x\": 32, \"y\": 32}, \"velocities\": {\"x\": 4, \"y\": 4}},\n",
    "        \"geometry\": [\n",
    "            {\"x\": [18, 19], \"y\": [7, 14], \"boundary\": \"specular\"},\n",
    "            {\"x\": [18, 19], \"y\": [19, 26], \"boundary\": \"specular\"},\n",
    "            {\"x\": [26, 27], \"y\": [19, 26], \"boundary\": \"specular\"},\n",
    "            {\"x\": [26, 27], \"y\": [7, 14], \"boundary\": \"specular\"},\n",
    "            {\"x\": [20, 25], \"y\": [4, 5], \"boundary\": \"specular\"},\n",
    "            {\"x\": [20, 25], \"y\": [16, 17], \"boundary\": \"specular\"},\n",
    "            {\"x\": [20, 25], \"y\": [28, 29], \"boundary\": \"specular\"},\n",
    "        ],\n",
    "    }\n",
    ")\n",
    "lattice_3d = CollisionlessLattice(\n",
    "    {\n",
    "        \"lattice\": {\n",
    "            \"dim\": {\"x\": 16, \"y\": 128, \"z\": 16},\n",
    "            \"velocities\": {\"x\": 4, \"y\": 4, \"z\": 4},\n",
    "        },\n",
    "        \"geometry\": [\n",
    "            {\"x\": [10, 13], \"y\": [6, 88], \"z\": [10, 13], \"boundary\": \"specular\"}\n",
    "        ],\n",
    "    }\n",
    ")"
   ]
  },
  {
   "cell_type": "code",
   "execution_count": null,
   "metadata": {},
   "outputs": [],
   "source": [
    "root_directory_2d = \"qlbm-output/visualization-components-2d\"\n",
    "root_directory_3d = \"qlbm-output/visualization-components-3d\"\n",
    "create_directory_and_parents(root_directory_2d)\n",
    "create_directory_and_parents(root_directory_3d)"
   ]
  },
  {
   "cell_type": "code",
   "execution_count": null,
   "metadata": {},
   "outputs": [],
   "source": [
    "# Will output seven 2D stl files under `qlbm-output/visualization-components-2d/paraview`\n",
    "CollisionlessResult(lattice_2d, root_directory_2d).visualize_geometry()"
   ]
  },
  {
   "cell_type": "code",
   "execution_count": null,
   "metadata": {},
   "outputs": [],
   "source": [
    "# Will output one 3D stl files under `qlbm-output/visualization-components-3d/paraview`\n",
    "CollisionlessResult(lattice_3d, root_directory_3d).visualize_geometry()"
   ]
  }
 ],
 "metadata": {
  "kernelspec": {
   "display_name": "Python 3 (ipykernel)",
   "language": "python",
   "name": "python3"
  },
  "language_info": {
   "codemirror_mode": {
    "name": "ipython",
    "version": 3
   },
   "file_extension": ".py",
   "mimetype": "text/x-python",
   "name": "python",
   "nbconvert_exporter": "python",
   "pygments_lexer": "ipython3",
   "version": "3.11.9"
  }
 },
 "nbformat": 4,
 "nbformat_minor": 4
}
