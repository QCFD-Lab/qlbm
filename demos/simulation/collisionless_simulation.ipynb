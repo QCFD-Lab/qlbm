{
 "cells": [
  {
   "cell_type": "code",
   "execution_count": null,
   "id": "6e87b04a-a016-4208-b38f-62a84692aedc",
   "metadata": {},
   "outputs": [],
   "source": [
    "from qiskit_aer import AerSimulator\n",
    "from qlbm.components import (\n",
    "    CQLBM,\n",
    "    CollisionlessInitialConditions,\n",
    "    EmptyPrimitive,\n",
    "    GridMeasurement,\n",
    ")\n",
    "from qlbm.infra import QiskitRunner, SimulationConfig\n",
    "from qlbm.lattice import CollisionlessLattice\n",
    "from qlbm.tools.utils import create_directory_and_parents"
   ]
  },
  {
   "cell_type": "code",
   "execution_count": null,
   "id": "c383eabe-47b3-4505-afe1-c50c677b9d36",
   "metadata": {},
   "outputs": [],
   "source": [
    "# Number of shots to simulate for each timestep when running the circuit\n",
    "num_shots = 2**12\n",
    "# Number of timesteps to simulate\n",
    "num_steps = 20"
   ]
  },
  {
   "cell_type": "code",
   "execution_count": null,
   "id": "e8e77d2f-a778-441c-b436-a61e1f3154cf",
   "metadata": {},
   "outputs": [],
   "source": [
    "# Load example with mixed boundary conditions and create output directory\n",
    "lattice_file = \"lattices/2d_16x16_2_obstacle_mixed.json\"\n",
    "lattice = CollisionlessLattice(lattice_file)\n",
    "\n",
    "lattice_name = lattice_file.split(\"/\")[-1].split(\".\")[0].replace(\"_\", \"-\")\n",
    "output_dir = f\"qlbm-output/collisionless-{lattice_name}-qiskit\"\n",
    "create_directory_and_parents(output_dir)"
   ]
  },
  {
   "cell_type": "code",
   "execution_count": null,
   "id": "26ce07ff-55f9-4828-a9b3-4e9c6dc6a856",
   "metadata": {},
   "outputs": [],
   "source": [
    "# In the simulation configuration function the user can determine the specifications of the run \n",
    "cfg = SimulationConfig(\n",
    "    initial_conditions=CollisionlessInitialConditions(lattice),\n",
    "    algorithm=CQLBM(lattice),\n",
    "    postprocessing=EmptyPrimitive(lattice),\n",
    "    measurement=GridMeasurement(lattice),\n",
    "    target_platform=\"QISKIT\",\n",
    "    compiler_platform=\"QISKIT\",\n",
    "    optimization_level=0,\n",
    "    statevector_sampling=True,\n",
    "    execution_backend=AerSimulator(method=\"statevector\"),\n",
    "    sampling_backend=AerSimulator(method=\"statevector\"),\n",
    ")"
   ]
  },
  {
   "cell_type": "code",
   "execution_count": null,
   "id": "b733d245-c344-46db-88bb-864e4cf07474",
   "metadata": {},
   "outputs": [],
   "source": [
    "cfg.prepare_for_simulation()"
   ]
  },
  {
   "cell_type": "code",
   "execution_count": null,
   "id": "f1c02c70-8244-4a86-8357-9f8c80d2d632",
   "metadata": {},
   "outputs": [],
   "source": [
    "# Create a runner object to simulate the circuit\n",
    "runner = QiskitRunner(\n",
    "    cfg,\n",
    "    lattice,\n",
    ")\n",
    "\n",
    "# Simulate the circuits using both snapshots\n",
    "runner.run(\n",
    "    num_steps,  # Number of time steps\n",
    "    num_shots,  # Number of shots per time step\n",
    "    output_dir,\n",
    "    statevector_snapshots=True,\n",
    ")"
   ]
  },
  {
   "cell_type": "code",
   "execution_count": null,
   "id": "0c3f7afd-f119-4218-897a-6d7ac754f6ba",
   "metadata": {},
   "outputs": [],
   "source": []
  },
  {
   "cell_type": "code",
   "execution_count": null,
   "id": "9c2a193c-4da5-4be1-acbf-ecdbaffb7caa",
   "metadata": {},
   "outputs": [],
   "source": []
  },
  {
   "cell_type": "code",
   "execution_count": null,
   "id": "a3634e82-6301-4b9b-ab52-9b14731289b9",
   "metadata": {},
   "outputs": [],
   "source": []
  },
  {
   "cell_type": "code",
   "execution_count": null,
   "id": "7d2b52b2-bf88-4578-aa61-06c1f20a4fec",
   "metadata": {},
   "outputs": [],
   "source": []
  }
 ],
 "metadata": {
  "kernelspec": {
   "display_name": "Python 3 (ipykernel)",
   "language": "python",
   "name": "python3"
  },
  "language_info": {
   "codemirror_mode": {
    "name": "ipython",
    "version": 3
   },
   "file_extension": ".py",
   "mimetype": "text/x-python",
   "name": "python",
   "nbconvert_exporter": "python",
   "pygments_lexer": "ipython3",
   "version": "3.11.8"
  }
 },
 "nbformat": 4,
 "nbformat_minor": 5
}
