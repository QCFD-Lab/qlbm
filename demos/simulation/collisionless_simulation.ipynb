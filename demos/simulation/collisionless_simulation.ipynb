{
 "cells": [
  {
   "cell_type": "code",
   "execution_count": null,
   "id": "9b1814b3",
   "metadata": {},
   "outputs": [],
   "source": [
    "from qiskit_aer import AerSimulator\n",
    "\n",
    "from qlbm.components import (\n",
    "    CQLBM,\n",
    "    CollisionlessInitialConditions,\n",
    "    EmptyPrimitive,\n",
    "    GridMeasurement,\n",
    ")\n",
    "from qlbm.infra import QiskitRunner, SimulationConfig\n",
    "from qlbm.lattice import CollisionlessLattice\n",
    "from qlbm.tools.utils import create_directory_and_parents"
   ]
  },
  {
   "cell_type": "code",
   "execution_count": null,
   "id": "e8e77d2f-a778-441c-b436-a61e1f3154cf",
   "metadata": {},
   "outputs": [],
   "source": [
    "# Load example with mixed boundary conditions and create output directory\n",
    "lattice = CollisionlessLattice(\n",
    "    {\n",
    "        \"lattice\": {\"dim\": {\"x\": 16, \"y\": 16}, \"velocities\": {\"x\": 4, \"y\": 4}},\n",
    "        \"geometry\": [\n",
    "            {\"shape\": \"cuboid\", \"x\": [9, 12], \"y\": [3, 6], \"boundary\": \"specular\"},\n",
    "            {\"shape\": \"cuboid\", \"x\": [9, 12], \"y\": [9, 12], \"boundary\": \"bounceback\"},\n",
    "        ],\n",
    "    }\n",
    ")\n",
    "\n",
    "\n",
    "output_dir = \"qlbm-output/collisionless-2d-16x16-2-obstacle-mixed-qiskit\"\n",
    "create_directory_and_parents(output_dir)"
   ]
  },
  {
   "cell_type": "code",
   "execution_count": null,
   "id": "b4df878f",
   "metadata": {},
   "outputs": [],
   "source": [
    "# Number of shots to simulate for each timestep when running the circuit\n",
    "NUM_SHOTS = 2**12\n",
    "# Number of timesteps to simulate\n",
    "NUM_STEPS = 20"
   ]
  },
  {
   "cell_type": "code",
   "execution_count": null,
   "id": "26ce07ff-55f9-4828-a9b3-4e9c6dc6a856",
   "metadata": {},
   "outputs": [],
   "source": [
    "# In the simulation configuration function the user can determine the specifications of the run\n",
    "cfg = SimulationConfig(\n",
    "    initial_conditions=CollisionlessInitialConditions(lattice),\n",
    "    algorithm=CQLBM(lattice),\n",
    "    postprocessing=EmptyPrimitive(lattice),\n",
    "    measurement=GridMeasurement(lattice),\n",
    "    target_platform=\"QISKIT\",\n",
    "    compiler_platform=\"QISKIT\",\n",
    "    optimization_level=0,\n",
    "    statevector_sampling=True,\n",
    "    execution_backend=AerSimulator(method=\"statevector\"),\n",
    "    sampling_backend=AerSimulator(method=\"statevector\"),\n",
    ")"
   ]
  },
  {
   "cell_type": "code",
   "execution_count": null,
   "id": "b733d245-c344-46db-88bb-864e4cf07474",
   "metadata": {},
   "outputs": [],
   "source": [
    "cfg.prepare_for_simulation()"
   ]
  },
  {
   "cell_type": "code",
   "execution_count": null,
   "id": "f1c02c70-8244-4a86-8357-9f8c80d2d632",
   "metadata": {},
   "outputs": [],
   "source": [
    "# Create a runner object to simulate the circuit\n",
    "runner = QiskitRunner(\n",
    "    cfg,\n",
    "    lattice,\n",
    ")\n",
    "\n",
    "# Simulate the circuits using both snapshots\n",
    "runner.run(\n",
    "    NUM_STEPS,  # Number of time steps\n",
    "    NUM_SHOTS,  # Number of shots per time step\n",
    "    output_dir,\n",
    "    statevector_snapshots=True,\n",
    ")"
   ]
  },
  {
   "cell_type": "code",
   "execution_count": null,
   "id": "a4c15cbe-3766-4ea1-b3cb-f7caec41328c",
   "metadata": {},
   "outputs": [],
   "source": []
  }
 ],
 "metadata": {
  "kernelspec": {
   "display_name": "qlbm-cpu-venv",
   "language": "python",
   "name": "python3"
  },
  "language_info": {
   "codemirror_mode": {
    "name": "ipython",
    "version": 3
   },
   "file_extension": ".py",
   "mimetype": "text/x-python",
   "name": "python",
   "nbconvert_exporter": "python",
   "pygments_lexer": "ipython3",
   "version": "3.13.7"
  }
 },
 "nbformat": 4,
 "nbformat_minor": 5
}
