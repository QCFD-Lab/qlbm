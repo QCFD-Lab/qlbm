{
 "cells": [
  {
   "cell_type": "code",
   "execution_count": null,
   "id": "70305ef3",
   "metadata": {},
   "outputs": [],
   "source": [
    "from qiskit_aer import AerSimulator\n",
    "\n",
    "from qlbm.components import EmptyPrimitive\n",
    "from qlbm.components.lqlga.initial import LQGLAInitialConditions\n",
    "from qlbm.components.lqlga.lqlga import LQLGA\n",
    "from qlbm.components.lqlga.measurement import LQLGAGridVelocityMeasurement\n",
    "from qlbm.infra import QiskitRunner, SimulationConfig\n",
    "from qlbm.lattice.lattices.lqlga_lattice import LQLGALattice\n",
    "from qlbm.tools.utils import create_directory_and_parents\n"
   ]
  },
  {
   "cell_type": "code",
   "execution_count": null,
   "id": "ec2f4062",
   "metadata": {},
   "outputs": [],
   "source": [
    "from qlbm.components.lqlga import LQGLAInitialConditions\n",
    "from qlbm.lattice import LQLGALattice\n",
    "\n",
    "lattice = LQLGALattice(\n",
    "    {\n",
    "        \"lattice\": {\n",
    "            \"dim\": {\"x\": 7},\n",
    "            \"velocities\": \"D1Q3\",\n",
    "        },\n",
    "        \"geometry\": [{\"shape\": \"cuboid\", \"x\": [3, 5], \"boundary\": \"bounceback\"}],\n",
    "    },\n",
    ")\n",
    "\n",
    "\n",
    "output_dir = \"qlbm-output/lqlga-d1q3-7-qiskit\"\n",
    "create_directory_and_parents(output_dir)\n"
   ]
  },
  {
   "cell_type": "code",
   "execution_count": null,
   "id": "86ec87a5",
   "metadata": {},
   "outputs": [],
   "source": [
    "cfg = SimulationConfig(\n",
    "    initial_conditions=LQGLAInitialConditions(\n",
    "        lattice, [(tuple([2]), (True, True, True))]\n",
    "    ),\n",
    "    algorithm=LQLGA(lattice),\n",
    "    postprocessing=EmptyPrimitive(lattice),\n",
    "    measurement=LQLGAGridVelocityMeasurement(lattice),\n",
    "    target_platform=\"QISKIT\",\n",
    "    compiler_platform=\"QISKIT\",\n",
    "    optimization_level=0,\n",
    "    statevector_sampling=True,\n",
    "    execution_backend=AerSimulator(method=\"statevector\"),\n",
    "    sampling_backend=AerSimulator(method=\"statevector\"),\n",
    ")"
   ]
  },
  {
   "cell_type": "code",
   "execution_count": null,
   "id": "4d54ef63",
   "metadata": {},
   "outputs": [],
   "source": [
    "cfg.prepare_for_simulation()\n",
    "\n",
    "# Number of shots to simulate for each timestep when running the circuit\n",
    "NUM_SHOTS = 2**10\n",
    "\n",
    "# Number of timesteps to simulate\n",
    "NUM_STEPS = 20\n",
    "\n",
    "# Create a runner object to simulate the circuit\n",
    "runner = QiskitRunner(\n",
    "    cfg,\n",
    "    lattice,\n",
    ")\n",
    "\n",
    "# Simulate the circuits using both snapshots\n",
    "runner.run(\n",
    "    NUM_STEPS,  # Number of time steps\n",
    "    NUM_SHOTS,  # Number of shots per time step\n",
    "    output_dir,\n",
    "    statevector_snapshots=True,\n",
    ")"
   ]
  },
  {
   "cell_type": "code",
   "execution_count": null,
   "id": "ed774960",
   "metadata": {},
   "outputs": [],
   "source": []
  }
 ],
 "metadata": {
  "kernelspec": {
   "display_name": "qlbm-cpu-venv",
   "language": "python",
   "name": "python3"
  },
  "language_info": {
   "codemirror_mode": {
    "name": "ipython",
    "version": 3
   },
   "file_extension": ".py",
   "mimetype": "text/x-python",
   "name": "python",
   "nbconvert_exporter": "python",
   "pygments_lexer": "ipython3",
   "version": "3.13.7"
  }
 },
 "nbformat": 4,
 "nbformat_minor": 5
}
