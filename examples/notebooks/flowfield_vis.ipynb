{
 "cells": [
  {
   "cell_type": "markdown",
   "metadata": {},
   "source": [
    "# Flowfield Visualization"
   ]
  },
  {
   "cell_type": "markdown",
   "metadata": {},
   "source": [
    "`qlbm` uses `vtk` and `Paraview` for visualization. While we generally recommend `Paraview` for detailed analysis, the script below can parse vtk files and output `gif`s for a convenient alternative."
   ]
  },
  {
   "cell_type": "code",
   "execution_count": 1,
   "metadata": {
    "execution": {
     "iopub.execute_input": "2025-09-04T13:37:16.695458Z",
     "iopub.status.busy": "2025-09-04T13:37:16.695298Z",
     "iopub.status.idle": "2025-09-04T13:37:17.446613Z",
     "shell.execute_reply": "2025-09-04T13:37:17.446042Z"
    }
   },
   "outputs": [],
   "source": [
    "from os import listdir\n",
    "from os.path import isdir\n",
    "\n",
    "import imageio\n",
    "import numpy as np\n",
    "import pyvista as pv\n",
    "from PIL import Image, ImageDraw\n",
    "from pyvista import themes\n",
    "\n",
    "pv.set_plot_theme(themes.ParaViewTheme())"
   ]
  },
  {
   "cell_type": "code",
   "execution_count": 2,
   "metadata": {
    "execution": {
     "iopub.execute_input": "2025-09-04T13:37:17.448664Z",
     "iopub.status.busy": "2025-09-04T13:37:17.448427Z",
     "iopub.status.idle": "2025-09-04T13:37:17.455252Z",
     "shell.execute_reply": "2025-09-04T13:37:17.454753Z"
    }
   },
   "outputs": [],
   "source": [
    "# Function to create the animation\n",
    "def create_animation(simdir, output_filename):\n",
    "    vti_files = sorted(\n",
    "        [f\"{simdir}/{fname}\" for fname in listdir(simdir) if fname.endswith(\".vti\")]\n",
    "    )\n",
    "    stl_mesh = pv.read(\n",
    "        [f\"{simdir}/{fname}\" for fname in listdir(simdir) if fname.endswith(\".stl\")]\n",
    "    )\n",
    "\n",
    "    # Find the global maximum scalar value\n",
    "    max_scalar = 0\n",
    "    for vti_file in vti_files:\n",
    "        mesh = pv.read(vti_file)\n",
    "        if mesh.active_scalars is not None:\n",
    "            max_scalar = max(max_scalar, mesh.active_scalars.max())\n",
    "\n",
    "    images = []\n",
    "    sargs = dict(\n",
    "        title=\"Measurements at gridpoint\",\n",
    "        title_font_size=20,\n",
    "        label_font_size=16,\n",
    "        shadow=True,\n",
    "        n_labels=3,\n",
    "        italic=True,\n",
    "        fmt=\"%.1f\",\n",
    "        font_family=\"arial\",\n",
    "        position_x=0.2,  # Centering the scalar bar\n",
    "        position_y=0.05,\n",
    "    )\n",
    "\n",
    "    images = []\n",
    "    for c, vti_file in enumerate(vti_files):\n",
    "        time_step_mesh = pv.read(vti_file)\n",
    "\n",
    "        plotter = pv.Plotter(off_screen=True)\n",
    "        plotter.add_mesh(\n",
    "            time_step_mesh,\n",
    "            clim=[0, max_scalar],\n",
    "            show_edges=True,\n",
    "            scalar_bar_args=sargs,\n",
    "        )\n",
    "\n",
    "        plotter.add_mesh(\n",
    "            stl_mesh,\n",
    "            show_scalar_bar=False,\n",
    "        )\n",
    "        plotter.view_xy()\n",
    "        img = plotter.screenshot(\n",
    "            transparent_background=True,\n",
    "        )\n",
    "        images.append(img)\n",
    "\n",
    "        # Clean up the plotter\n",
    "        plotter.close()\n",
    "\n",
    "        # Convert screenshot to PIL image\n",
    "        pil_img = Image.fromarray(img)\n",
    "        draw = ImageDraw.Draw(pil_img)\n",
    "\n",
    "        # Draw progress bar\n",
    "        bar_width = int(pil_img.width * 0.8)\n",
    "        bar_height = 20\n",
    "        bar_x = (pil_img.width - bar_width) // 2\n",
    "        bar_y = pil_img.height - 40\n",
    "        progress = int((c + 1) / (len(vti_files)) * bar_width)\n",
    "\n",
    "        draw.rectangle(\n",
    "            [bar_x, bar_y, bar_x + bar_width, bar_y + bar_height],\n",
    "            outline=\"black\",\n",
    "            width=3,\n",
    "        )\n",
    "        draw.rectangle(\n",
    "            [bar_x, bar_y, bar_x + progress, bar_y + bar_height], fill=\"purple\"\n",
    "        )\n",
    "\n",
    "        images.append(np.array(pil_img))\n",
    "\n",
    "    # Create the GIF from the collected images\n",
    "    imageio.mimsave(output_filename, images, duration=1, loop=0)\n"
   ]
  },
  {
   "cell_type": "markdown",
   "metadata": {},
   "source": [
    "We ship the data below with the GitHub repository, but custom data can be generated using the scripts provided in the `demos/simulation` directory."
   ]
  },
  {
   "cell_type": "code",
   "execution_count": 3,
   "metadata": {
    "execution": {
     "iopub.execute_input": "2025-09-04T13:37:17.456889Z",
     "iopub.status.busy": "2025-09-04T13:37:17.456708Z",
     "iopub.status.idle": "2025-09-04T13:37:31.369932Z",
     "shell.execute_reply": "2025-09-04T13:37:31.369306Z"
    }
   },
   "outputs": [
    {
     "name": "stderr",
     "output_type": "stream",
     "text": [
      "\u001b[0m\u001b[33m2025-09-04 13:37:17.518 (   0.737s) [    7FBAF0B06B80]vtkXOpenGLRenderWindow.:1458  WARN| bad X server connection. DISPLAY=\u001b[0m\n"
     ]
    }
   ],
   "source": [
    "# 2D CQLBM visualization with 7 obstacles and mixed boundary conditions\n",
    "simdir = \"sample-flowfield/collisionless-eight\"\n",
    "\n",
    "# Required for this to work on the website\n",
    "if not isdir(simdir):\n",
    "    simdir = \"../../../../demos/visualization/\" + simdir\n",
    "\n",
    "create_animation(f\"{simdir}/paraview\", \"cqlbm_figure_eight.gif\")\n"
   ]
  },
  {
   "cell_type": "markdown",
   "metadata": {},
   "source": [
    "For a better visualization experience, we recommend visualizing the results in Paraview."
   ]
  },
  {
   "cell_type": "code",
   "execution_count": null,
   "metadata": {},
   "outputs": [],
   "source": []
  },
  {
   "cell_type": "markdown",
   "metadata": {},
   "source": [
    "<img src=\"cqlbm_figure_eight.gif\" width=\"1920\" align=\"center\">"
   ]
  },
  {
   "cell_type": "code",
   "execution_count": 4,
   "metadata": {
    "execution": {
     "iopub.execute_input": "2025-09-04T13:37:31.372084Z",
     "iopub.status.busy": "2025-09-04T13:37:31.371898Z",
     "iopub.status.idle": "2025-09-04T13:37:36.278760Z",
     "shell.execute_reply": "2025-09-04T13:37:36.278110Z"
    }
   },
   "outputs": [],
   "source": [
    "# 2D STQLBM visualization with a circle obstacle\n",
    "simdir = \"sample-flowfield/spacetime-d2q4-8x8-circle\"\n",
    "\n",
    "# Required for this to work on the website\n",
    "if not isdir(simdir):\n",
    "    simdir = \"../../../../demos/visualization/\" + simdir\n",
    "\n",
    "\n",
    "create_animation(f\"{simdir}/paraview\", \"stqlbm_circle.gif\")"
   ]
  },
  {
   "cell_type": "markdown",
   "metadata": {},
   "source": [
    "<img src=\"stqlbm_circle.gif\" width=\"1920\" align=\"center\">"
   ]
  }
 ],
 "metadata": {
  "kernelspec": {
   "display_name": "Python 3 (ipykernel)",
   "language": "python",
   "name": "python3"
  },
  "language_info": {
   "codemirror_mode": {
    "name": "ipython",
    "version": 3
   },
   "file_extension": ".py",
   "mimetype": "text/x-python",
   "name": "python",
   "nbconvert_exporter": "python",
   "pygments_lexer": "ipython3",
   "version": "3.12.5"
  }
 },
 "nbformat": 4,
 "nbformat_minor": 4
}
