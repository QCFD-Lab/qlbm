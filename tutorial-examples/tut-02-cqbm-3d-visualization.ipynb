{
 "cells": [
  {
   "cell_type": "code",
   "execution_count": null,
   "metadata": {},
   "outputs": [],
   "source": [
    "from qlbm.components import (\n",
    "    CQLBM,\n",
    "    CollisionlessStreamingOperator,\n",
    "    ControlledIncrementer,\n",
    "    SpecularReflectionOperator,\n",
    "    SpeedSensitivePhaseShift,\n",
    ")\n",
    "from qlbm.lattice import CollisionlessLattice"
   ]
  },
  {
   "cell_type": "markdown",
   "metadata": {},
   "source": [
    "Let us update the code from the previous tutorial such that we now specify a 3D system instead of a 2D one. "
   ]
  },
  {
   "cell_type": "code",
   "execution_count": null,
   "metadata": {},
   "outputs": [],
   "source": [
    "example_lattice = CollisionlessLattice(\n",
    "    {\n",
    "        \"lattice\": {\n",
    "            \"dim\": {\"x\": 8, \"y\": 8, \"z\": 8},\n",
    "            \"velocities\": {\"x\": 4, \"y\": 4, \"z\": 4},\n",
    "        },\n",
    "        \"geometry\": [\n",
    "            {\n",
    "                \"shape\": \"cuboid\",\n",
    "                \"x\": [5, 6],\n",
    "                \"y\": [1, 2],\n",
    "                \"z\": [4, 5],\n",
    "                \"boundary\": \"specular\",\n",
    "            }\n",
    "        ],\n",
    "    }\n",
    ")"
   ]
  },
  {
   "cell_type": "code",
   "execution_count": null,
   "metadata": {},
   "outputs": [],
   "source": [
    "# Let's examine the quantum register setup\n",
    "example_lattice.circuit.draw(\"mpl\")"
   ]
  },
  {
   "cell_type": "code",
   "execution_count": null,
   "metadata": {},
   "outputs": [],
   "source": [
    "# Visualize the streaming operator\n",
    "CollisionlessStreamingOperator(example_lattice, [0, 2, 3]).draw(\"mpl\")"
   ]
  },
  {
   "cell_type": "code",
   "execution_count": null,
   "metadata": {},
   "outputs": [],
   "source": []
  }
 ],
 "metadata": {
  "kernelspec": {
   "display_name": "Python 3 (ipykernel)",
   "language": "python",
   "name": "python3"
  },
  "language_info": {
   "codemirror_mode": {
    "name": "ipython",
    "version": 3
   },
   "file_extension": ".py",
   "mimetype": "text/x-python",
   "name": "python",
   "nbconvert_exporter": "python",
   "pygments_lexer": "ipython3",
   "version": "3.12.5"
  }
 },
 "nbformat": 4,
 "nbformat_minor": 4
}
