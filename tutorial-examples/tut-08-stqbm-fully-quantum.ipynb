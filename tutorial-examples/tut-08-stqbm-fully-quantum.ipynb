{
 "cells": [
  {
   "cell_type": "code",
   "execution_count": null,
   "metadata": {},
   "outputs": [],
   "source": [
    "from qiskit_aer import AerSimulator\n",
    "\n",
    "from qlbm.components import EmptyPrimitive\n",
    "from qlbm.components.spacetime import (\n",
    "    PointWiseSpaceTimeInitialConditions,\n",
    "    SpaceTimeGridVelocityMeasurement,\n",
    "    SpaceTimeQLBM,\n",
    ")\n",
    "from qlbm.infra import QiskitRunner, SimulationConfig\n",
    "from qlbm.lattice import SpaceTimeLattice\n",
    "from qlbm.tools.utils import create_directory_and_parents"
   ]
  },
  {
   "cell_type": "code",
   "execution_count": null,
   "metadata": {},
   "outputs": [],
   "source": [
    "# Load example with mixed boundary conditions and create output directory\n",
    "lattice = SpaceTimeLattice(\n",
    "    num_timesteps=1,\n",
    "    lattice_data={\n",
    "        \"lattice\": {\"dim\": {\"x\": 16}, \"velocities\": {\"x\": 2}},\n",
    "        \"geometry\": [],\n",
    "    },\n",
    ")"
   ]
  },
  {
   "cell_type": "code",
   "execution_count": null,
   "metadata": {},
   "outputs": [],
   "source": [
    "lattice.circuit.draw(\"mpl\")"
   ]
  },
  {
   "cell_type": "code",
   "execution_count": null,
   "metadata": {},
   "outputs": [],
   "source": [
    "output_dir = f\"qlbm-output/spacetime-{lattice.logger_name()}-qiskit-1-step\"\n",
    "create_directory_and_parents(output_dir)"
   ]
  },
  {
   "cell_type": "code",
   "execution_count": null,
   "metadata": {},
   "outputs": [],
   "source": [
    "cfg = SimulationConfig(\n",
    "    initial_conditions=PointWiseSpaceTimeInitialConditions(\n",
    "        lattice, grid_data=[((2, 0), (True, True))]\n",
    "    ),\n",
    "    algorithm=SpaceTimeQLBM(lattice),\n",
    "    postprocessing=EmptyPrimitive(lattice),\n",
    "    measurement=SpaceTimeGridVelocityMeasurement(lattice),\n",
    "    target_platform=\"QISKIT\",\n",
    "    compiler_platform=\"QISKIT\",\n",
    "    optimization_level=0,\n",
    "    statevector_sampling=False,\n",
    "    execution_backend=AerSimulator(method=\"statevector\"),\n",
    "    sampling_backend=AerSimulator(method=\"statevector\"),\n",
    ")"
   ]
  },
  {
   "cell_type": "code",
   "execution_count": null,
   "metadata": {},
   "outputs": [],
   "source": [
    "cfg.prepare_for_simulation()"
   ]
  },
  {
   "cell_type": "code",
   "execution_count": null,
   "metadata": {},
   "outputs": [],
   "source": [
    "# Number of shots to simulate for each timestep when running the circuit\n",
    "NUM_SHOTS = 2**10\n",
    "\n",
    "# Number of timesteps to simulate\n",
    "NUM_STEPS = 100"
   ]
  },
  {
   "cell_type": "code",
   "execution_count": null,
   "metadata": {},
   "outputs": [],
   "source": [
    "# Create a runner object to simulate the circuit\n",
    "runner = QiskitRunner(\n",
    "    cfg,\n",
    "    lattice,\n",
    ")"
   ]
  },
  {
   "cell_type": "code",
   "execution_count": null,
   "metadata": {},
   "outputs": [],
   "source": [
    "# Simulate the circuits using both snapshots and sampling\n",
    "runner.run(\n",
    "    NUM_STEPS,  # Number of time steps\n",
    "    NUM_SHOTS,  # Number of shots per time step\n",
    "    output_dir,\n",
    "    statevector_snapshots=True,\n",
    ")"
   ]
  },
  {
   "cell_type": "markdown",
   "metadata": {},
   "source": [
    "Let us repeat the simulation, but this time make use of a fully quantum approach where instead of restarting after every time step, we simulate multiple steps entirely using quantum circuits."
   ]
  },
  {
   "cell_type": "code",
   "execution_count": null,
   "metadata": {},
   "outputs": [],
   "source": [
    "# Load example with mixed boundary conditions and create output directory\n",
    "lattice = SpaceTimeLattice(\n",
    "    num_timesteps=4,\n",
    "    lattice_data={\n",
    "        \"lattice\": {\"dim\": {\"x\": 16}, \"velocities\": {\"x\": 2}},\n",
    "        \"geometry\": [],\n",
    "    },\n",
    ")\n",
    "lattice.circuit.draw(\"mpl\")"
   ]
  },
  {
   "cell_type": "code",
   "execution_count": null,
   "metadata": {},
   "outputs": [],
   "source": [
    "output_dir = f\"qlbm-output/spacetime-{lattice.logger_name()}-qiskit-4-step\"\n",
    "create_directory_and_parents(output_dir)\n",
    "\n",
    "cfg = SimulationConfig(\n",
    "    initial_conditions=PointWiseSpaceTimeInitialConditions(\n",
    "        lattice, grid_data=[((2, 0), (True, True))]\n",
    "    ),\n",
    "    algorithm=SpaceTimeQLBM(lattice),\n",
    "    postprocessing=EmptyPrimitive(lattice),\n",
    "    measurement=SpaceTimeGridVelocityMeasurement(lattice),\n",
    "    target_platform=\"QISKIT\",\n",
    "    compiler_platform=\"QISKIT\",\n",
    "    optimization_level=0,\n",
    "    statevector_sampling=False,\n",
    "    execution_backend=AerSimulator(method=\"statevector\"),\n",
    "    sampling_backend=AerSimulator(method=\"statevector\"),\n",
    ")\n",
    "\n",
    "cfg.prepare_for_simulation()\n",
    "\n",
    "# Number of shots to simulate for each timestep when running the circuit\n",
    "NUM_SHOTS = 2**10\n",
    "\n",
    "# Number of timesteps to simulate\n",
    "NUM_STEPS = 25\n",
    "\n",
    "# Create a runner object to simulate the circuit\n",
    "runner = QiskitRunner(\n",
    "    cfg,\n",
    "    lattice,\n",
    ")\n",
    "\n",
    "# Simulate the circuits using both snapshots and sampling\n",
    "runner.run(\n",
    "    NUM_STEPS,  # Number of time steps\n",
    "    NUM_SHOTS,  # Number of shots per time step\n",
    "    output_dir,\n",
    "    statevector_snapshots=True,\n",
    ")"
   ]
  },
  {
   "cell_type": "code",
   "execution_count": null,
   "metadata": {},
   "outputs": [],
   "source": []
  }
 ],
 "metadata": {
  "kernelspec": {
   "display_name": "Python 3 (ipykernel)",
   "language": "python",
   "name": "python3"
  },
  "language_info": {
   "codemirror_mode": {
    "name": "ipython",
    "version": 3
   },
   "file_extension": ".py",
   "mimetype": "text/x-python",
   "name": "python",
   "nbconvert_exporter": "python",
   "pygments_lexer": "ipython3",
   "version": "3.12.5"
  }
 },
 "nbformat": 4,
 "nbformat_minor": 4
}
