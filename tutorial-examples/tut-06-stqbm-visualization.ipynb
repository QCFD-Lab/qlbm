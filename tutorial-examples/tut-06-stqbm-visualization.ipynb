{
 "cells": [
  {
   "cell_type": "code",
   "execution_count": null,
   "metadata": {},
   "outputs": [],
   "source": [
    "from qlbm.components.spacetime import (\n",
    "    PointWiseSpaceTimeInitialConditions,\n",
    "    SpaceTimeCollisionOperator,\n",
    "    SpaceTimeQLBM,\n",
    "    SpaceTimeStreamingOperator,\n",
    ")\n",
    "from qlbm.lattice import SpaceTimeLattice"
   ]
  },
  {
   "cell_type": "code",
   "execution_count": null,
   "metadata": {},
   "outputs": [],
   "source": [
    "example_lattice = SpaceTimeLattice(\n",
    "    1,\n",
    "    {\n",
    "        \"lattice\": {\"dim\": {\"x\": 16, \"y\": 16}, \"velocities\": {\"x\": 2, \"y\": 2}},\n",
    "        \"geometry\": [],\n",
    "    },\n",
    ")"
   ]
  },
  {
   "cell_type": "code",
   "execution_count": null,
   "metadata": {},
   "outputs": [],
   "source": [
    "\n",
    "example_lattice.circuit.draw(\"mpl\")"
   ]
  },
  {
   "cell_type": "code",
   "execution_count": null,
   "metadata": {},
   "outputs": [],
   "source": [
    "PointWiseSpaceTimeInitialConditions(\n",
    "    example_lattice,\n",
    "    grid_data=[\n",
    "        ((2, 5), (True, True, True, True)),\n",
    "        # ((3, 4), (False, True, False, True)),\n",
    "    ],\n",
    ").draw(\"mpl\")"
   ]
  },
  {
   "cell_type": "code",
   "execution_count": null,
   "metadata": {},
   "outputs": [],
   "source": [
    "SpaceTimeStreamingOperator(example_lattice, 1).draw(\"mpl\")"
   ]
  },
  {
   "cell_type": "code",
   "execution_count": null,
   "metadata": {},
   "outputs": [],
   "source": [
    "SpaceTimeCollisionOperator(example_lattice, 1).draw(\"mpl\")"
   ]
  },
  {
   "cell_type": "code",
   "execution_count": null,
   "metadata": {},
   "outputs": [],
   "source": [
    "SpaceTimeQLBM(example_lattice).draw(\"mpl\")"
   ]
  },
  {
   "cell_type": "code",
   "execution_count": null,
   "metadata": {},
   "outputs": [],
   "source": []
  }
 ],
 "metadata": {
  "kernelspec": {
   "display_name": "Python 3 (ipykernel)",
   "language": "python",
   "name": "python3"
  },
  "language_info": {
   "codemirror_mode": {
    "name": "ipython",
    "version": 3
   },
   "file_extension": ".py",
   "mimetype": "text/x-python",
   "name": "python",
   "nbconvert_exporter": "python",
   "pygments_lexer": "ipython3",
   "version": "3.12.5"
  }
 },
 "nbformat": 4,
 "nbformat_minor": 4
}
