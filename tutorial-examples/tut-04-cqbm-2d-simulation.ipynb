{
 "cells": [
  {
   "cell_type": "code",
   "execution_count": null,
   "metadata": {},
   "outputs": [],
   "source": [
    "from qiskit_aer import AerSimulator\n",
    "from utilities import create_animation\n",
    "\n",
    "from qlbm.components import (\n",
    "    CQLBM,\n",
    "    CollisionlessInitialConditions,\n",
    "    EmptyPrimitive,\n",
    "    GridMeasurement,\n",
    ")\n",
    "from qlbm.infra import QiskitRunner, SimulationConfig\n",
    "from qlbm.lattice import CollisionlessLattice\n",
    "from qlbm.tools.utils import create_directory_and_parents"
   ]
  },
  {
   "cell_type": "code",
   "execution_count": null,
   "metadata": {},
   "outputs": [],
   "source": [
    "# Load example with mixed boundary conditions and create output directory\n",
    "lattice = CollisionlessLattice(\n",
    "    {\n",
    "        \"lattice\": {\"dim\": {\"x\": 16, \"y\": 16}, \"velocities\": {\"x\": 4, \"y\": 4}},\n",
    "        \"geometry\": [\n",
    "            {\"shape\": \"cuboid\", \"x\": [9, 12], \"y\": [3, 6], \"boundary\": \"specular\"},\n",
    "            {\"shape\": \"cuboid\", \"x\": [9, 12], \"y\": [9, 12], \"boundary\": \"bounceback\"},\n",
    "        ],\n",
    "    }\n",
    ")\n",
    "\n",
    "\n",
    "output_dir = \"qlbm-output/collisionless-2d-16x16-2-obstacle-mixed-qiskit\"\n",
    "create_directory_and_parents(output_dir)"
   ]
  },
  {
   "cell_type": "code",
   "execution_count": null,
   "metadata": {},
   "outputs": [],
   "source": [
    "# Number of shots to simulate for each timestep when running the circuit\n",
    "NUM_SHOTS = 2**10\n",
    "# Number of timesteps to simulate\n",
    "NUM_STEPS = 10"
   ]
  },
  {
   "cell_type": "code",
   "execution_count": null,
   "metadata": {},
   "outputs": [],
   "source": [
    "# In the simulation configuration function the user can determine the specifications of the run\n",
    "cfg = SimulationConfig(\n",
    "    initial_conditions=CollisionlessInitialConditions(lattice),\n",
    "    algorithm=CQLBM(lattice),\n",
    "    postprocessing=EmptyPrimitive(lattice),\n",
    "    measurement=GridMeasurement(lattice),\n",
    "    target_platform=\"QISKIT\",\n",
    "    compiler_platform=\"QISKIT\",\n",
    "    optimization_level=0,\n",
    "    statevector_sampling=True,\n",
    "    execution_backend=AerSimulator(method=\"statevector\"),\n",
    "    sampling_backend=AerSimulator(method=\"statevector\"),\n",
    ")"
   ]
  },
  {
   "cell_type": "code",
   "execution_count": null,
   "metadata": {},
   "outputs": [],
   "source": [
    "cfg.prepare_for_simulation()"
   ]
  },
  {
   "cell_type": "code",
   "execution_count": null,
   "metadata": {},
   "outputs": [],
   "source": [
    "# Create a runner object to simulate the circuit\n",
    "runner = QiskitRunner(\n",
    "    cfg,\n",
    "    lattice,\n",
    ")\n",
    "\n",
    "# Simulate the circuits using both snapshots\n",
    "runner.run(\n",
    "    NUM_STEPS,  # Number of time steps\n",
    "    NUM_SHOTS,  # Number of shots per time step\n",
    "    output_dir,\n",
    "    statevector_snapshots=True,\n",
    ")"
   ]
  },
  {
   "cell_type": "code",
   "execution_count": null,
   "metadata": {},
   "outputs": [],
   "source": [
    "create_animation(f\"{output_dir}/paraview\", \"2d-output.gif\")"
   ]
  },
  {
   "cell_type": "markdown",
   "metadata": {},
   "source": [
    "<img src=\"2d-output.gif\" width=\"1920\" align=\"center\">"
   ]
  },
  {
   "cell_type": "markdown",
   "metadata": {},
   "source": []
  }
 ],
 "metadata": {
  "kernelspec": {
   "display_name": "Python 3 (ipykernel)",
   "language": "python",
   "name": "python3"
  },
  "language_info": {
   "codemirror_mode": {
    "name": "ipython",
    "version": 3
   },
   "file_extension": ".py",
   "mimetype": "text/x-python",
   "name": "python",
   "nbconvert_exporter": "python",
   "pygments_lexer": "ipython3",
   "version": "3.12.5"
  }
 },
 "nbformat": 4,
 "nbformat_minor": 4
}
